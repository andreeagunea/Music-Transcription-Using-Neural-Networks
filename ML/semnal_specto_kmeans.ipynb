{
 "cells": [
  {
   "cell_type": "code",
   "execution_count": 9,
   "id": "b7b39c9b",
   "metadata": {},
   "outputs": [],
   "source": [
    "import numpy as np\n",
    "import pandas as pd\n",
    "import joblib\n",
    "\n",
    "import numpy as np\n",
    "import librosa, librosa.display\n",
    "import matplotlib.pyplot as plt\n",
    "from scipy.signal import hamming\n",
    "\n",
    "import librosa\n",
    "import os\n",
    "import math\n",
    "import numpy as np\n",
    "import csv\n",
    "from scipy.signal import find_peaks\n",
    "\n",
    "from sklearn.preprocessing import LabelEncoder\n",
    "from sklearn.cluster import MiniBatchKMeans\n",
    "from sklearn.metrics import accuracy_score\n",
    "\n",
    "import cv2\n",
    "\n",
    "\n",
    "def filtrare_liniste(path_fisiere, pathuri_fisiere_out_prag, praguri):\n",
    "    for i in range(len(praguri)):\n",
    "        for j in range(len(path_fisiere)):\n",
    "            path_fisier = r'{}'.format(path_fisiere[j])\n",
    "            y, sr = librosa.load(path_fisier, sr=8000, mono=True)\n",
    "\n",
    "            clip = librosa.effects.trim(y, top_db=praguri[i])       #elimina semnalul cu o putere sub 10db, fiind considerat liniste\n",
    "\n",
    "            path_fisier_out_prag = r'{}'.format(pathuri_fisiere_out_prag[i][j])\n",
    "            \n",
    "            sf.write(path_fisier_out_prag, clip[0], sr)          #se salveaza noul semnal audio\n",
    "            \n",
    "\n",
    "def spectograma(y, nr_onset, folder_out, sr=22050):\n",
    "    if not folder_out in os.listdir(os.getcwd()):\n",
    "        os.mkdir(folder_spectograme)\n",
    "    path = os.getcwd()\n",
    "    path_folder_out = os.path.join(path, folder_out)                    # se afla in proiect\n",
    "    fisier_out = 'onset' +str(nr_onset) + '.jpg'                       # splitext ia numele fisierului fara extensie\n",
    "    path_fisier_out = os.path.join(path_folder_out, fisier_out)         # calea fisierului de out\n",
    "\n",
    "    plt.interactive(False)\n",
    "    fig = plt.figure(figsize=[0.72, 0.72])\n",
    "    ax = fig.add_subplot(111)\n",
    "    ax.axes.get_xaxis().set_visible(False)\n",
    "    ax.axes.get_yaxis().set_visible(False)\n",
    "    ax.set_frame_on(False)\n",
    "\n",
    "    S = librosa.feature.melspectrogram(y=y, sr=sr)\n",
    "    librosa.display.specshow(librosa.power_to_db(S, ref=np.max))\n",
    "\n",
    "    fig.savefig(path_fisier_out, dpi=400, bbox_inches='tight', pad_inches=0)\n",
    "\n",
    "    plt.close(fig)\n",
    "    \n",
    "\n",
    "def spectograme_onseturi(fisier_wav, folder_spectograme):\n",
    "    y, sr = librosa.load(fisier_wav)\n",
    "    print(sr)  #rata de esnationare\n",
    "    print(len(y))  #y = duratata semnal in secunde * rata de esantionare sr\n",
    "    #durata = len(y)/sr\n",
    "    \n",
    "    y = librosa.effects.trim(y, top_db=11)[0]       #elimina semnalul cu o putere sub 11db, fiind considerat liniste\n",
    "    \n",
    "    plt.figure(figsize=(14,5))\n",
    "    librosa.display.waveshow(y, sr=sr)\n",
    "\n",
    "    o_env = librosa.onset.onset_strength(y=y, sr=sr)\n",
    "    times = librosa.times_like(o_env, sr=sr)\n",
    "    onset_frames = librosa.onset.onset_detect(onset_envelope=o_env, sr=sr)\n",
    "\n",
    "    print(onset_frames) # frame numbers of estimated onsets\n",
    "\n",
    "    onset_times = librosa.frames_to_time(onset_frames)\n",
    "    print(onset_times)\n",
    "\n",
    "    y_db = 10.0 * np.log10(y)\n",
    "\n",
    "    plt.figure(figsize=(10,5))\n",
    "    librosa.display.waveshow(y, sr=sr)\n",
    "    plt.vlines(onset_times, -0.3, 0.3, color = 'r')\n",
    "    \n",
    "    #Esantionare semnal\n",
    "    fereastra = int(30*1e-3*sr)\n",
    "    print(fereastra)\n",
    "\n",
    "    #Ferestre suprapuse\n",
    "    p=0.2  #Factorul de suprapunere\n",
    "\n",
    "    #Numarul de cadre suprarpuse\n",
    "    numar_cadre_p = int(len(y)/(fereastra*(1-p)))\n",
    "    print(\"Numarul de cadre este %d\" %numar_cadre_p)\n",
    "\n",
    "    #Creare variabila timp pentru axa Ox\n",
    "    time_axis = np.arange(0, fereastra)*1/sr #utilizata la plot-uri\n",
    "    \n",
    "    \n",
    "    # cadre onset\n",
    "\n",
    "    durata = len(y) / sr\n",
    "    timpi = np.arange(0, durata, 1/sr)\n",
    "    dictionar = {}\n",
    "    nr_esantion = [i for i in range(1, len(y) + 1)]\n",
    "    for i in range(len(nr_esantion)):\n",
    "        dictionar[nr_esantion[i]] = timpi[i]\n",
    "\n",
    "    cadre = []\n",
    "    for i in range(len(onset_times)):\n",
    "        onset1 = onset_times[i]\n",
    "        try:\n",
    "            onset2 = onset_times[i+1]\n",
    "        except IndexError:\n",
    "            onset2 = timpi[-1]\n",
    "        cadru_curent = []\n",
    "        for j in range(len(y)):\n",
    "            if j in dictionar:\n",
    "                if dictionar[j] > onset1: \n",
    "                    if dictionar[j] < onset2:\n",
    "                        cadru_curent.append(j)\n",
    "                    else:\n",
    "                        break\n",
    "        cadre.append(cadru_curent)\n",
    "\n",
    "    # fiecare onset are o lista de esantioane\n",
    "    esantioane_onset = []\n",
    "    for i in range(len(cadre)):\n",
    "        esantioane_onset.append(y[cadre[i][0] : cadre[i][-1]])\n",
    "\n",
    "    # note aferente fiecarui onset  \n",
    "    note = []\n",
    "    frecvente = []\n",
    "    for i in range(len(esantioane_onset)):\n",
    "        spectograma(esantioane_onset[i], i, folder_spectograme)"
   ]
  },
  {
   "cell_type": "code",
   "execution_count": 10,
   "id": "6ccf8faa",
   "metadata": {},
   "outputs": [
    {
     "name": "stdout",
     "output_type": "stream",
     "text": [
      "22050\n",
      "383260\n",
      "[  3  13  25  37  48  61  72  85  97 107 119 131 147 164 190 203 214 225\n",
      " 235 247 258 269 281 292 303 314 330 346 383 396 407 418 429 441 452 462\n",
      " 472 482 492 507 522 544 556 566 576 588 599 610 621 632 643 654 681 702\n",
      " 722]\n",
      "[ 0.06965986  0.30185941  0.58049887  0.85913832  1.11455782  1.41641723\n",
      "  1.67183673  1.97369615  2.2523356   2.48453515  2.7631746   3.04181406\n",
      "  3.41333333  3.80807256  4.41179138  4.71365079  4.96907029  5.2244898\n",
      "  5.45668934  5.7353288   5.9907483   6.2461678   6.52480726  6.78022676\n",
      "  7.03564626  7.29106576  7.66258503  8.03410431  8.89324263  9.19510204\n",
      "  9.45052154  9.70594104  9.96136054 10.24       10.4954195  10.72761905\n",
      " 10.95981859 11.19201814 11.42421769 11.77251701 12.12081633 12.63165533\n",
      " 12.91029478 13.14249433 13.37469388 13.65333333 13.90875283 14.16417234\n",
      " 14.41959184 14.67501134 14.93043084 15.18585034 15.81278912 16.30040816\n",
      " 16.76480726]\n"
     ]
    },
    {
     "name": "stderr",
     "output_type": "stream",
     "text": [
      "C:\\Users\\bogdan1.bratu\\AppData\\Local\\Temp\\ipykernel_12356\\134924271.py:80: RuntimeWarning: invalid value encountered in log10\n",
      "  y_db = 10.0 * np.log10(y)\n"
     ]
    },
    {
     "name": "stdout",
     "output_type": "stream",
     "text": [
      "661\n",
      "Numarul de cadre este 713\n"
     ]
    },
    {
     "data": {
      "image/png": "[encoded data removed]",
      "text/plain": [
       "<Figure size 1008x360 with 1 Axes>"
      ]
     },
     "metadata": {
      "needs_background": "light"
     },
     "output_type": "display_data"
    },
    {
     "data": {
      "image/png": "[encoded data removed]",
      "text/plain": [
       "<Figure size 720x360 with 1 Axes>"
      ]
     },
     "metadata": {
      "needs_background": "light"
     },
     "output_type": "display_data"
    }
   ],
   "source": [
    "fisier_wav = 'whistle3.wav'\n",
    "folder_spectograme_semnal = 'whistle3_spectograme'\n",
    "folder_spectograme = 'spectograme_trainsitest_filtrate_prag11db'\n",
    "# \n",
    "spectograme_onseturi(fisier_wav, folder_spectograme_semnal)         # folder cu spectograme rezultat\n",
    "# "
   ]
  },
  {
   "cell_type": "code",
   "execution_count": 11,
   "id": "3754eeda",
   "metadata": {},
   "outputs": [
    {
     "name": "stderr",
     "output_type": "stream",
     "text": [
      "C:\\Users\\bogdan1.bratu\\Anaconda3\\lib\\site-packages\\sklearn\\cluster\\_kmeans.py:1043: UserWarning: MiniBatchKMeans is known to have a memory leak on Windows with MKL, when there are less chunks than available threads. You can prevent it by setting batch_size >= 2048 or by setting the environment variable OMP_NUM_THREADS=2\n",
      "  warnings.warn(\n",
      "C:\\Users\\bogdan1.bratu\\Anaconda3\\lib\\site-packages\\sklearn\\cluster\\_kmeans.py:1043: UserWarning: MiniBatchKMeans is known to have a memory leak on Windows with MKL, when there are less chunks than available threads. You can prevent it by setting batch_size >= 2048 or by setting the environment variable OMP_NUM_THREADS=2\n",
      "  warnings.warn(\n"
     ]
    }
   ],
   "source": [
    "# spectograme individual\n",
    "path_folder = os.path.join(os.getcwd(), folder_spectograme)\n",
    "fisiere = os.listdir(path_folder)\n",
    "path_fisiere = [os.path.join(path_folder, i) for i in fisiere]\n",
    "\n",
    "imagini = [cv2.imread(i) for i in path_fisiere]\n",
    "imagini = np.array(imagini)\n",
    "dim = len(imagini[0]) * len(imagini[0][0]) * 3\n",
    "imagini = imagini.reshape((imagini.shape[0]), dim)\n",
    "\n",
    "# spectograme semnal\n",
    "path_folder_semnal = os.path.join(os.getcwd(), folder_spectograme_semnal)\n",
    "fisiere_semnal = os.listdir(path_folder_semnal)\n",
    "path_fisiere_semnal = [os.path.join(path_folder_semnal, i) for i in fisiere_semnal]\n",
    "\n",
    "imagini_semnal = [cv2.imread(i) for i in path_fisiere_semnal]\n",
    "imagini_semnal = np.array(imagini_semnal)\n",
    "dim_semnal = len(imagini_semnal[0]) * len(imagini_semnal[0][0]) * 3\n",
    "imagini_semnal = imagini_semnal.reshape((imagini_semnal.shape[0]), dim_semnal)\n",
    "\n",
    "\n",
    "# dim_nou = len(imagini[0]) * len(imagini_semnal[0][0]) * 3\n",
    "# imagini = imagini.reshape((imagini.shape[0]), dim_semnal)\n",
    "\n",
    "# adaugare imagini semnal la imagini\n",
    "index_imagini_semnal = imagini.shape[0]\n",
    "imagini = np.append(imagini, imagini_semnal, axis=0)\n",
    "\n",
    "X = imagini\n",
    "kmeans = MiniBatchKMeans(n_clusters=37)\n",
    "kmeans.fit(X)           \n",
    "clustere = kmeans.fit_predict(X)"
   ]
  },
  {
   "cell_type": "code",
   "execution_count": 12,
   "id": "b81f14db",
   "metadata": {},
   "outputs": [],
   "source": [
    "imagini = imagini.reshape((imagini.shape[0]), dim_semnal)"
   ]
  },
  {
   "cell_type": "code",
   "execution_count": 13,
   "id": "1f529a38",
   "metadata": {},
   "outputs": [
    {
     "data": {
      "text/plain": [
       "145173"
      ]
     },
     "execution_count": 13,
     "metadata": {},
     "output_type": "execute_result"
    }
   ],
   "source": [
    "dim_semnal"
   ]
  },
  {
   "cell_type": "code",
   "execution_count": 14,
   "id": "2f88ae03",
   "metadata": {},
   "outputs": [
    {
     "data": {
      "text/plain": [
       "(448, 145173)"
      ]
     },
     "execution_count": 14,
     "metadata": {},
     "output_type": "execute_result"
    }
   ],
   "source": [
    "imagini.shape"
   ]
  },
  {
   "cell_type": "code",
   "execution_count": 15,
   "id": "abc4cf43",
   "metadata": {},
   "outputs": [
    {
     "data": {
      "text/plain": [
       "array([22, 22, 22, 14, 14, 22, 22, 22, 22, 22,  8,  8,  8, 21, 21, 21,  8,\n",
       "       21,  8,  8, 28, 28, 28, 28, 28, 28, 18, 18, 15, 28, 15, 15, 21,  8,\n",
       "        8, 21, 21, 21,  8,  8,  8, 21, 15, 15, 28, 28, 28, 28, 28, 28, 18,\n",
       "       28, 18, 18,  8, 21, 21, 21, 21, 11,  8,  8,  8,  8, 31, 31, 31, 14,\n",
       "       31, 31, 31, 31, 31, 31, 28, 28, 28, 28, 18, 28, 18, 18, 28, 15, 15,\n",
       "       18, 28, 28, 28,  1, 18, 18, 18, 18, 18, 25,  9, 25, 25, 25, 25, 25,\n",
       "       25, 25, 25, 36, 36, 36, 36, 36, 36, 36, 36, 36, 36, 16, 16, 16, 14,\n",
       "       14, 16, 16, 16, 16, 16,  0,  0, 29, 29, 29, 29, 29, 29, 29, 29, 29,\n",
       "       29, 36, 36, 34, 34, 34,  1, 34, 34, 34, 34, 34, 34,  1,  1, 29,  1,\n",
       "        1,  1, 29,  1, 29,  1,  1,  1,  1,  1,  1,  1,  1, 29, 15,  1, 32,\n",
       "       32, 32, 14, 14, 32, 32, 14, 32, 32, 17,  9, 17, 17, 14, 17, 17, 17,\n",
       "       17, 17, 10, 10, 10, 28, 10, 10, 10, 10, 10, 10,  0,  0, 35, 35, 35,\n",
       "       21, 21, 35, 35, 35, 35, 35,  0,  0, 10, 10, 10,  1, 10, 10, 10, 10,\n",
       "       10, 10, 33, 33, 33, 33, 33, 33, 33, 33, 33, 33,  9,  9,  9, 14,  9,\n",
       "        9,  9,  9,  9,  9,  5,  5,  5,  5,  5,  5,  5,  5,  5,  5,  0,  0,\n",
       "        7,  7,  7,  7,  7,  7,  5,  5,  7,  7, 19, 19, 19, 19, 14, 19, 19,\n",
       "       19, 19, 19, 23, 23, 23, 14, 14, 23, 23, 14, 23, 23,  4,  4,  4, 14,\n",
       "        4,  4,  4,  4,  4,  4, 15, 15, 20, 20, 20, 20, 20, 20, 20, 20, 20,\n",
       "       20, 15, 15, 27, 27, 11, 11, 11, 27, 27, 27, 27, 27,  7,  7,  7,  7,\n",
       "        7,  7,  7,  7,  7,  7,  2,  2,  2,  2,  2,  2,  2,  2,  2,  2, 26,\n",
       "       26, 26, 14, 26, 26, 26, 26, 26, 26,  2, 24,  2,  2,  2,  2, 24,  2,\n",
       "       24,  2, 15, 15, 30, 30, 30, 14, 30, 30, 30, 30, 30, 30, 15, 15, 24,\n",
       "       11, 11, 11, 11, 11, 24, 24, 24, 11, 27, 11, 11, 11, 11, 11, 24, 24,\n",
       "       24, 11,  6,  6, 13, 12,  6, 35,  6,  6,  6, 12, 12, 13,  6, 13, 12,\n",
       "       12, 13, 13, 12,  6, 35, 12, 12, 12, 13, 13, 13,  3,  3,  3,  6, 12,\n",
       "        3,  3, 12,  3,  6,  6,  6, 12, 12, 13, 13, 12, 12, 13, 13, 26, 35,\n",
       "        6, 12, 13, 12, 12, 13])"
      ]
     },
     "execution_count": 15,
     "metadata": {},
     "output_type": "execute_result"
    }
   ],
   "source": [
    "clustere"
   ]
  },
  {
   "cell_type": "code",
   "execution_count": 16,
   "id": "d85d9356",
   "metadata": {},
   "outputs": [
    {
     "ename": "ValueError",
     "evalue": "attempt to get argmax of an empty sequence",
     "output_type": "error",
     "traceback": [
      "\u001b[1;31m---------------------------------------------------------------------------\u001b[0m",
      "\u001b[1;31mValueError\u001b[0m                                Traceback (most recent call last)",
      "Input \u001b[1;32mIn [16]\u001b[0m, in \u001b[0;36m<cell line: 8>\u001b[1;34m()\u001b[0m\n\u001b[0;32m      9\u001b[0m     masca \u001b[38;5;241m=\u001b[39m np\u001b[38;5;241m.\u001b[39mwhere(clustere_fara_clustere_semnal \u001b[38;5;241m==\u001b[39m i, \u001b[38;5;241m1\u001b[39m, \u001b[38;5;241m0\u001b[39m)\n\u001b[0;32m     10\u001b[0m     aparitii_etichete \u001b[38;5;241m=\u001b[39m np\u001b[38;5;241m.\u001b[39mbincount(y_et[masca\u001b[38;5;241m==\u001b[39m\u001b[38;5;241m1\u001b[39m])\n\u001b[1;32m---> 11\u001b[0m     eticheta_aleasa \u001b[38;5;241m=\u001b[39m \u001b[43maparitii_etichete\u001b[49m\u001b[38;5;241;43m.\u001b[39;49m\u001b[43margmax\u001b[49m\u001b[43m(\u001b[49m\u001b[43m)\u001b[49m\n\u001b[0;32m     12\u001b[0m     dictionar[i] \u001b[38;5;241m=\u001b[39m eticheta_aleasa\n\u001b[0;32m     14\u001b[0m dictionar\n",
      "\u001b[1;31mValueError\u001b[0m: attempt to get argmax of an empty sequence"
     ]
    }
   ],
   "source": [
    "y = [fisiere[i][:3] if fisiere[i][2] == \"#\" else fisiere[i][:2] for i in range(len(fisiere))]\n",
    "le = LabelEncoder()\n",
    "y_et = le.fit_transform(y)\n",
    "\n",
    "dictionar = {}\n",
    "clustere_unice = np.unique(clustere)\n",
    "clustere_fara_clustere_semnal = clustere[:index_imagini_semnal]\n",
    "for i in range(len(clustere_unice)):\n",
    "    masca = np.where(clustere_fara_clustere_semnal == i, 1, 0)\n",
    "    aparitii_etichete = np.bincount(y_et[masca==1])\n",
    "    eticheta_aleasa = aparitii_etichete.argmax()\n",
    "    dictionar[i] = eticheta_aleasa\n",
    "    \n",
    "dictionar"
   ]
  },
  {
   "cell_type": "code",
   "execution_count": null,
   "id": "fd4c35f8",
   "metadata": {},
   "outputs": [],
   "source": [
    "clustere_semnal = clustere[index_frecvente_semnal:]\n",
    "clustere_semnal"
   ]
  },
  {
   "cell_type": "code",
   "execution_count": null,
   "id": "8ccbd952",
   "metadata": {},
   "outputs": [],
   "source": [
    "clustere_semnal_clase = np.random.rand(len(clustere_semnal))\n",
    "for i in range(len(clustere_semnal)):\n",
    "    clustere_semnal_clase[i] = dictionar[clustere_semnal[i]]\n",
    "\n",
    "clustere_semnal_clase"
   ]
  },
  {
   "cell_type": "code",
   "execution_count": null,
   "id": "08669153",
   "metadata": {},
   "outputs": [],
   "source": [
    "clustere_semnal_clase = np.array([int(i) for i in clustere_semnal_clase])\n",
    "clustere_semnal_clase_inv = le.inverse_transform(clustere_semnal_clase)\n",
    "clustere_semnal_clase_inv.tolist()\n",
    "predictii = clustere_semnal_clase_inv"
   ]
  },
  {
   "cell_type": "code",
   "execution_count": null,
   "id": "3b4d69ad",
   "metadata": {},
   "outputs": [],
   "source": [
    "from music21 import *\n",
    "\n",
    "note_prezise = predictii\n",
    "\n",
    "note_corecte = ['B3','B3','B3','C4','C4','A3','G3','C4','C4','A3','G3','C4','D4','D4','B3','B3','B3','C4','C4','A3',\n",
    "                      'G3','C4','C4','A3','G3','C4','D4','D4','C4','C4','A4','A4','G4','G4','E4','E4','D4','C4','E4','G4',\n",
    "                      'E4','B3','B3','B3','C4','C4','A3','G3','C4','C4','A3','G3','D4','B3','C4']\n",
    "\n",
    "\n",
    "s = stream.Stream()\n",
    "for i, j in zip(note_prezise, note_corecte):\n",
    "        if i[0] != j[0]:\n",
    "            n = note.Note(i[0], quarterLength = 1)\n",
    "            n.style.color='red'\n",
    "            s.append([n])\n",
    "        else:\n",
    "            n = note.Note(i[0], quarterLength = 1)\n",
    "            s.append([n])\n",
    "    \n",
    "s.show()"
   ]
  }
 ],
 "metadata": {
  "kernelspec": {
   "display_name": "Python 3 (ipykernel)",
   "language": "python",
   "name": "python3"
  },
  "language_info": {
   "codemirror_mode": {
    "name": "ipython",
    "version": 3
   },
   "file_extension": ".py",
   "mimetype": "text/x-python",
   "name": "python",
   "nbconvert_exporter": "python",
   "pygments_lexer": "ipython3",
   "version": "3.9.12"
  }
 },
 "nbformat": 4,
 "nbformat_minor": 5
}
