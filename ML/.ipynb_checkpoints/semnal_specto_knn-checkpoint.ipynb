{
 "cells": [
  {
   "cell_type": "code",
   "execution_count": 1,
   "id": "42a31a20",
   "metadata": {},
   "outputs": [],
   "source": [
    "import numpy as np\n",
    "import os\n",
    "\n",
    "import cv2\n",
    "\n",
    "from sklearn.neighbors import KNeighborsClassifier\n",
    "from sklearn.preprocessing import LabelEncoder\n",
    "import joblib\n",
    "from sklearn.metrics import confusion_matrix, accuracy_score"
   ]
  },
  {
   "cell_type": "code",
   "execution_count": 2,
   "id": "c63b6dae",
   "metadata": {},
   "outputs": [
    {
     "data": {
      "text/plain": [
       "KNeighborsClassifier()"
      ]
     },
     "execution_count": 2,
     "metadata": {},
     "output_type": "execute_result"
    }
   ],
   "source": [
    "# Antrenare\n",
    "folder = 'spectograme_train_filtrate_prag11db'\n",
    "path_folder = os.path.join(os.getcwd(), folder)\n",
    "fisiere = os.listdir(path_folder)\n",
    "path_fisiere = [os.path.join(path_folder, i) for i in fisiere]\n",
    "\n",
    "imagini = [cv2.imread(i) for i in path_fisiere]\n",
    "imagini = np.array(imagini)\n",
    "dim = len(imagini[0]) * len(imagini[0][0]) * 3\n",
    "imagini = imagini.reshape((imagini.shape[0]), dim)\n",
    "\n",
    "clase = [i[:3] if i[2]=='#' else i[:2] for i in fisiere]\n",
    "# le = LabelEncoder()\n",
    "# clase = le.fit_transform(clase)\n",
    "\n",
    "X_train = imagini\n",
    "y_train = clase\n",
    "model = KNeighborsClassifier()\n",
    "model.fit(X_train, y_train)"
   ]
  },
  {
   "cell_type": "code",
   "execution_count": 3,
   "id": "38415d9e",
   "metadata": {},
   "outputs": [],
   "source": [
    "# Testare"
   ]
  },
  {
   "cell_type": "code",
   "execution_count": 4,
   "id": "add45da7",
   "metadata": {},
   "outputs": [],
   "source": [
    "# Onset-uri\n",
    "\n",
    "folder = 'spectograme_onseturi'\n",
    "path_folder = os.path.join(os.getcwd(), folder)\n",
    "fisiere = os.listdir(path_folder)\n",
    "path_fisiere = [os.path.join(path_folder, i) for i in fisiere]\n",
    "\n",
    "imagini = [cv2.imread(i) for i in path_fisiere]\n",
    "imagini = np.array(imagini)\n",
    "dim = len(imagini[0]) * len(imagini[0][0]) * 3\n",
    "imagini = imagini.reshape((imagini.shape[0]), dim)\n",
    "\n",
    "X_test = imagini\n",
    "predictii = model.predict(X_test)"
   ]
  },
  {
   "cell_type": "code",
   "execution_count": 5,
   "id": "12b95d34",
   "metadata": {},
   "outputs": [
    {
     "data": {
      "text/plain": [
       "array(['C3', 'D3', 'E3', 'F3', 'C3#', 'F3', 'E3', 'D3', 'C3'], dtype='<U3')"
      ]
     },
     "execution_count": 5,
     "metadata": {},
     "output_type": "execute_result"
    }
   ],
   "source": [
    "predictii"
   ]
  },
  {
   "cell_type": "code",
   "execution_count": null,
   "id": "114b542d",
   "metadata": {},
   "outputs": [],
   "source": []
  }
 ],
 "metadata": {
  "kernelspec": {
   "display_name": "Python 3 (ipykernel)",
   "language": "python",
   "name": "python3"
  },
  "language_info": {
   "codemirror_mode": {
    "name": "ipython",
    "version": 3
   },
   "file_extension": ".py",
   "mimetype": "text/x-python",
   "name": "python",
   "nbconvert_exporter": "python",
   "pygments_lexer": "ipython3",
   "version": "3.9.7"
  }
 },
 "nbformat": 4,
 "nbformat_minor": 5
}
