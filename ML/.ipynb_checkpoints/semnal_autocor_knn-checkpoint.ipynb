{
 "cells": [
  {
   "cell_type": "code",
   "execution_count": 1,
   "id": "5360f786",
   "metadata": {},
   "outputs": [],
   "source": [
    "import numpy as np\n",
    "import pandas as pd\n",
    "from sklearn.neighbors import KNeighborsClassifier\n",
    "from sklearn.metrics import confusion_matrix, accuracy_score\n",
    "import joblib"
   ]
  },
  {
   "cell_type": "code",
   "execution_count": 2,
   "id": "efaef234",
   "metadata": {},
   "outputs": [
    {
     "data": {
      "text/plain": [
       "['knn_model.joblib']"
      ]
     },
     "execution_count": 2,
     "metadata": {},
     "output_type": "execute_result"
    }
   ],
   "source": [
    "# Antrenare\n",
    "df_train = pd.read_csv('autocor_train.csv')    \n",
    "nume_fisiere = df_train.iloc[:, 0].values\n",
    "frecvente = df_train.iloc[:, 1].values\n",
    "\n",
    "X_train = frecvente                            \n",
    "y_train = [nume_fisiere[i][:3] if nume_fisiere[i][2] == \"#\" else nume_fisiere[i][:2] for i in range(len(nume_fisiere))]\n",
    "\n",
    "model = KNeighborsClassifier(n_neighbors=1, metric='euclidean')\n",
    "X_train = X_train.reshape(-1,1)\n",
    "model.fit(X_train, y_train)\n",
    "joblib.dump(model, 'knn_model.joblib')"
   ]
  },
  {
   "cell_type": "code",
   "execution_count": 3,
   "id": "3d3cebc1",
   "metadata": {},
   "outputs": [],
   "source": [
    "# Testare"
   ]
  },
  {
   "cell_type": "code",
   "execution_count": 4,
   "id": "c0aa1a75",
   "metadata": {},
   "outputs": [
    {
     "name": "stdout",
     "output_type": "stream",
     "text": [
      "[132.03592814] C3\n",
      "[147.98657718] D3\n",
      "[165.78947368] E3\n",
      "[175.] F3\n",
      "[195.13274336] G3\n",
      "[175.] F3\n",
      "[165.78947368] E3\n",
      "[147.98657718] D3\n",
      "[132.03592814] C3\n"
     ]
    }
   ],
   "source": [
    "# Onset-uri\n",
    "\n",
    "df_test = pd.read_csv('semnal_autocor_onseturi.csv')\n",
    "frecvente = df_test.iloc[:, 0].values\n",
    "X_test = frecvente\n",
    "X_test = X_test.reshape(-1, 1)\n",
    "\n",
    "model = joblib.load('knn_model.joblib')\n",
    "predictii = model.predict(X_test)\n",
    "\n",
    "for i,j in zip(X_test, predictii):\n",
    "    print(i,j)"
   ]
  },
  {
   "cell_type": "code",
   "execution_count": 5,
   "id": "067bb8dc",
   "metadata": {},
   "outputs": [],
   "source": [
    "# Ferestre\n",
    "\n",
    "df_test = pd.read_csv('semnal_autocor_ferestre.csv')\n",
    "frecvente = df_test.iloc[:, 0].values\n",
    "X_test = []\n",
    "indecsi_newline = []\n",
    "for i in range(len(frecvente)):\n",
    "    if frecvente[i] == '\\n':\n",
    "        indecsi_newline.append(i)\n",
    "\n",
    "onset1 = 0\n",
    "for i in range(len(indecsi_newline)):\n",
    "    onset2 = indecsi_newline[i]\n",
    "    X_test.append(frecvente[onset1:onset2])\n",
    "    onset1 = indecsi_newline[i] + 1\n",
    "\n",
    "predictii = []\n",
    "for i in range(len(X_test)):\n",
    "    X_test_onset = X_test[i].reshape(-1, 1)\n",
    "    predictie_onset = model.predict(X_test_onset)\n",
    "    predictii.append(predictie_onset)\n",
    "    \n",
    "for i,j in zip(X_test, predictii):\n",
    "    print('inceput onset')\n",
    "    for x, y in zip(i,j):\n",
    "        print(x, y)\n",
    "    print('final onset\\n')"
   ]
  },
  {
   "cell_type": "code",
   "execution_count": 6,
   "id": "96238979",
   "metadata": {},
   "outputs": [],
   "source": [
    "for i in range(len(predictii)):\n",
    "    etichete, aparitii = np.unique(predictii[i], return_counts=True)\n",
    "    print(etichete, aparitii)\n",
    "    aparitie_max = np.amax(aparitii)\n",
    "    index_aparitie_max = np.where(aparitii == aparitie_max)[0][0]\n",
    "    eticheta_probabila = etichete[index_aparitie_max]\n",
    "    print(eticheta_probabila)"
   ]
  },
  {
   "cell_type": "code",
   "execution_count": null,
   "id": "36dfccc2",
   "metadata": {},
   "outputs": [],
   "source": []
  }
 ],
 "metadata": {
  "kernelspec": {
   "display_name": "Python 3 (ipykernel)",
   "language": "python",
   "name": "python3"
  },
  "language_info": {
   "codemirror_mode": {
    "name": "ipython",
    "version": 3
   },
   "file_extension": ".py",
   "mimetype": "text/x-python",
   "name": "python",
   "nbconvert_exporter": "python",
   "pygments_lexer": "ipython3",
   "version": "3.9.7"
  }
 },
 "nbformat": 4,
 "nbformat_minor": 5
}
