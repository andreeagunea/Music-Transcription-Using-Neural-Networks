{
 "cells": [
  {
   "cell_type": "code",
   "execution_count": 228,
   "id": "8055ecdf",
   "metadata": {},
   "outputs": [],
   "source": [
    "# FOLDERE SEPARATE PENTRU TRAIN SI TEST\n",
    "\n",
    "import numpy as np\n",
    "import os\n",
    "\n",
    "import cv2\n",
    "\n",
    "from sklearn.neighbors import KNeighborsClassifier\n",
    "from sklearn.preprocessing import LabelEncoder\n",
    "import joblib\n",
    "from sklearn.metrics import confusion_matrix, accuracy_score"
   ]
  },
  {
   "cell_type": "code",
   "execution_count": 229,
   "id": "3ae97398",
   "metadata": {},
   "outputs": [],
   "source": [
    "def redim(imagini, linii, col):\n",
    "    imagini = [cv2.resize(i, (linii, col), interpolation=cv2.INTER_AREA) for i in imagini]\n",
    "    imagini = np.array(imagini)\n",
    "    dim = linii * col * 3    #RGB - 3 pagini\n",
    "    imagini = imagini.reshape((imagini.shape[0]), dim)\n",
    "    \n",
    "    return imagini"
   ]
  },
  {
   "cell_type": "code",
   "execution_count": 230,
   "id": "7f390b3a",
   "metadata": {},
   "outputs": [],
   "source": [
    "# Folder de train\n",
    "\n",
    "path = os.getcwd()\n",
    "folder = 'spectograme_train'\n",
    "path_folder = os.path.join(path, folder)\n",
    "\n",
    "fisiere = os.listdir(path_folder)\n",
    "path_fisiere = [os.path.join(path_folder, i) for i in fisiere]"
   ]
  },
  {
   "cell_type": "code",
   "execution_count": 231,
   "id": "37d93a22",
   "metadata": {},
   "outputs": [
    {
     "name": "stdout",
     "output_type": "stream",
     "text": [
      "233 221 223 3\n"
     ]
    }
   ],
   "source": [
    "imagini = [cv2.imread(i) for i in path_fisiere]\n",
    "print(len(imagini), len(imagini[0]), len(imagini[0][0]), len(imagini[0][0][0]))"
   ]
  },
  {
   "cell_type": "code",
   "execution_count": 232,
   "id": "3329bef3",
   "metadata": {},
   "outputs": [],
   "source": [
    "# linii = col = 64\n",
    "# imagini = redim(imagini, linii, col)\n",
    "# imagini.shape\n",
    "\n",
    "imagini = np.array(imagini)\n",
    "dim = len(imagini[0]) * len(imagini[0][0]) * 3\n",
    "imagini = imagini.reshape((imagini.shape[0]), dim)"
   ]
  },
  {
   "cell_type": "code",
   "execution_count": 233,
   "id": "89fecace",
   "metadata": {},
   "outputs": [],
   "source": [
    "clase = [i[:3] if i[2]=='#' else i[:2] for i in fisiere]\n",
    "\n",
    "le = LabelEncoder()\n",
    "# aici transformam clasele din string in int, nu am facut asta la knn_autocorelatie \n",
    "# poate fi mai eficient pentru multe date, nu se mai compara string-uri ci int-uri\n",
    "clase_copy = clase\n",
    "clase = le.fit_transform(clase)"
   ]
  },
  {
   "cell_type": "code",
   "execution_count": 234,
   "id": "b2b8410c",
   "metadata": {},
   "outputs": [
    {
     "data": {
      "text/plain": [
       "KNeighborsClassifier()"
      ]
     },
     "execution_count": 234,
     "metadata": {},
     "output_type": "execute_result"
    }
   ],
   "source": [
    "X_train = imagini\n",
    "y_train = clase\n",
    "\n",
    "model = KNeighborsClassifier()\n",
    "#default: n_neighbors=5, metric='Minkowski', p=2\n",
    "model.fit(X_train, y_train)"
   ]
  },
  {
   "cell_type": "code",
   "execution_count": 235,
   "id": "538e604e",
   "metadata": {},
   "outputs": [
    {
     "name": "stdout",
     "output_type": "stream",
     "text": [
      "160 221 223 3\n"
     ]
    }
   ],
   "source": [
    "# Folder de test\n",
    "\n",
    "folder = 'spectograme_test'\n",
    "path_folder = os.path.join(path, folder)\n",
    "\n",
    "fisiere = os.listdir(path_folder)\n",
    "path_fisiere = [os.path.join(path_folder, i) for i in fisiere]\n",
    "\n",
    "imagini = [cv2.imread(i) for i in path_fisiere]\n",
    "print(len(imagini), len(imagini[0]), len(imagini[0][0]), len(imagini[0][0][0]))"
   ]
  },
  {
   "cell_type": "code",
   "execution_count": 236,
   "id": "dc43b0c6",
   "metadata": {},
   "outputs": [],
   "source": [
    "# linii = col = 64\n",
    "# imagini = redim(imagini, linii, col)\n",
    "# imagini.shape\n",
    "\n",
    "imagini = np.array(imagini)\n",
    "dim = len(imagini[0]) * len(imagini[0][0]) * 3\n",
    "imagini = imagini.reshape((imagini.shape[0]), dim)"
   ]
  },
  {
   "cell_type": "code",
   "execution_count": 237,
   "id": "539be376",
   "metadata": {},
   "outputs": [],
   "source": [
    "clase = [i[:3] if i[2]=='#' else i[:2] for i in fisiere]\n",
    "\n",
    "le = LabelEncoder()\n",
    "# aici transformam clasele din string in int, nu am facut asta la knn_autocorelatie \n",
    "# poate fi mai eficient pentru multe date, nu se mai compara string-uri ci int-uri\n",
    "clase_copy = clase\n",
    "clase = le.fit_transform(clase)"
   ]
  },
  {
   "cell_type": "code",
   "execution_count": 238,
   "id": "1389f37c",
   "metadata": {},
   "outputs": [
    {
     "data": {
      "text/plain": [
       "0.6625"
      ]
     },
     "execution_count": 238,
     "metadata": {},
     "output_type": "execute_result"
    }
   ],
   "source": [
    "X_test = imagini\n",
    "y_test = clase\n",
    "\n",
    "predictii = model.predict(X_test)\n",
    "score = accuracy_score(y_test, predictii)\n",
    "score"
   ]
  },
  {
   "cell_type": "code",
   "execution_count": null,
   "id": "e6f41ec4",
   "metadata": {},
   "outputs": [],
   "source": []
  }
 ],
 "metadata": {
  "kernelspec": {
   "display_name": "Python 3 (ipykernel)",
   "language": "python",
   "name": "python3"
  },
  "language_info": {
   "codemirror_mode": {
    "name": "ipython",
    "version": 3
   },
   "file_extension": ".py",
   "mimetype": "text/x-python",
   "name": "python",
   "nbconvert_exporter": "python",
   "pygments_lexer": "ipython3",
   "version": "3.9.12"
  }
 },
 "nbformat": 4,
 "nbformat_minor": 5
}
