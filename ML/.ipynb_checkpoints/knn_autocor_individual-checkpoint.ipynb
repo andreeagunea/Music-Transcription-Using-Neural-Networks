{
 "cells": [
  {
   "cell_type": "code",
   "execution_count": 406,
   "id": "3a27f3db",
   "metadata": {},
   "outputs": [],
   "source": [
    "import numpy as np\n",
    "import pandas as pd\n",
    "from sklearn.neighbors import KNeighborsClassifier\n",
    "from sklearn.metrics import confusion_matrix, accuracy_score\n",
    "import joblib"
   ]
  },
  {
   "cell_type": "code",
   "execution_count": 407,
   "id": "1821a1d4",
   "metadata": {},
   "outputs": [],
   "source": [
    "#Functii folosite\n",
    "\n",
    "#daca nota identificata nu corespunde cu numele fisierului, este identificata gresit\n",
    "def identificate_gresit(nume_fisiere, y):\n",
    "    nr = 0                                                  #numarul de note identificate gresit\n",
    "    linii_gresite = []                                      #append indecsi linii gresite\n",
    "    linii = nume_fisiere.shape[0]                           #totalul liniilor\n",
    "    for i in range(linii-1):                                #index pentru fiecare linie (prima linie exclusa automat)\n",
    "        if nume_fisiere[i][2] == \"#\":\n",
    "            nota = nume_fisiere[i][:3]                      #se extrage numele notei de pe linia curenta -> note cu #\n",
    "        else:\n",
    "            nota = nume_fisiere[i][:2]                      #se extrage numele notei de pe linia curenta -> note fara #\n",
    "        if sorted(y[i]) != sorted(nota):                    #cazul: nume = A5# , j = A#5 -> sunt egale\n",
    "            nr += 1\n",
    "            linii_gresite.append(i+2)                       #in Excel exista linia de titlu + index-ul incepe de la 1\n",
    "            print(\"Nota identificata gresit in Excel pe randul {}, nota adevarata {}, nota falsa {}.\".format(i+2, nota, y[i]))\n",
    "    print(\"\\nNumar note identificate gresit: {}.\".format(nr))\n",
    "    \n",
    "    return linii_gresite, nr, y\n",
    "\n",
    "\n",
    "#label-urile identificate gresit se schimba cu cele date de numele fisierului\n",
    "def schimbare_label(linii_gresite, nume_fisiere, y):\n",
    "    for i in linii_gresite:\n",
    "        if nume_fisiere[i-2][2] == \"#\":\n",
    "            y[i-2] = nume_fisiere[i-2][:3]\n",
    "        else:\n",
    "            y[i-2] = nume_fisiere[i-2][:2]\n",
    "    print(\"\\nS-au schimbat label-urile. Verificam daca mai sunt label-uri gresite...\")\n",
    "    print(\"\\nLabel-uri dupa schimbare:\\n\", y)\n",
    "\n",
    "    return identificate_gresit(nume_fisiere, y)\n",
    "\n",
    "\n",
    "#se sterge greseala din fiecare variabila(nume_fisier, frecvente, note)\n",
    "def stergere_gresite(nume_fisiere, X, y, linii_gresite):\n",
    "    # randul din excel este cu 2 mai mare(1 pt randul de titlu + 1 pt ca index-ul incepe de la 0)\n",
    "    nume_fisiere = np.delete(nume_fisiere, [i - 2 for i in linii_gresite], axis=0)\n",
    "    X = np.delete(X, [i - 2 for i in linii_gresite], axis=0)\n",
    "    y = np.delete(y, [i - 2 for i in linii_gresite], axis=0)\n",
    "\n",
    "    return nume_fisiere, X, y"
   ]
  },
  {
   "cell_type": "code",
   "execution_count": 408,
   "id": "108399fe",
   "metadata": {},
   "outputs": [],
   "source": [
    "df_train = pd.read_csv('autocor_train.csv')    #dataframe\n",
    "nume_fisiere = df_train.iloc[:, 0].values\n",
    "frecvente = df_train.iloc[:, 1].values\n",
    "note = df_train.iloc[:, 2].values\n",
    "\n",
    "X_train = frecvente    #features\n",
    "y_train = note         #labels"
   ]
  },
  {
   "cell_type": "code",
   "execution_count": 409,
   "id": "e0039e2f",
   "metadata": {},
   "outputs": [
    {
     "name": "stdout",
     "output_type": "stream",
     "text": [
      "Nota identificata gresit in Excel pe randul 3, nota adevarata A3#, nota falsa A#2.\n",
      "Nota identificata gresit in Excel pe randul 7, nota adevarata A3, nota falsa A2.\n",
      "Nota identificata gresit in Excel pe randul 16, nota adevarata A4, nota falsa A2.\n",
      "Nota identificata gresit in Excel pe randul 20, nota adevarata A5#, nota falsa D#4.\n",
      "Nota identificata gresit in Excel pe randul 29, nota adevarata B3, nota falsa B2.\n",
      "Nota identificata gresit in Excel pe randul 33, nota adevarata B4, nota falsa G2.\n",
      "Nota identificata gresit in Excel pe randul 50, nota adevarata C4#, nota falsa C#3.\n",
      "Nota identificata gresit in Excel pe randul 55, nota adevarata C4, nota falsa C3.\n",
      "Nota identificata gresit in Excel pe randul 80, nota adevarata D4#, nota falsa G#2.\n",
      "Nota identificata gresit in Excel pe randul 101, nota adevarata E4, nota falsa E3.\n",
      "Nota identificata gresit in Excel pe randul 111, nota adevarata F3#, nota falsa F#2.\n",
      "Nota identificata gresit in Excel pe randul 115, nota adevarata F3, nota falsa F2.\n",
      "Nota identificata gresit in Excel pe randul 119, nota adevarata F4#, nota falsa B2.\n",
      "Nota identificata gresit in Excel pe randul 141, nota adevarata G3, nota falsa G2.\n",
      "\n",
      "Numar note identificate gresit: 14.\n"
     ]
    }
   ],
   "source": [
    "linii_gresite, nr, y_train = identificate_gresit(nume_fisiere, y_train)"
   ]
  },
  {
   "cell_type": "code",
   "execution_count": 410,
   "id": "e0fc1995",
   "metadata": {},
   "outputs": [
    {
     "name": "stdout",
     "output_type": "stream",
     "text": [
      "\n",
      "S-au schimbat label-urile. Verificam daca mai sunt label-uri gresite...\n",
      "\n",
      "Label-uri dupa schimbare:\n",
      " ['A#3' 'A3#' 'A#3' 'A#3' 'A3' 'A3' 'A3' 'A3' 'A#4' 'A#4' 'A#4' 'A#4' 'A#4'\n",
      " 'A4' 'A4' 'A4' 'A4' 'A4' 'A5#' 'A#5' 'A#5' 'A#5' 'A5' 'A5' 'A5' 'A5' 'B3'\n",
      " 'B3' 'B3' 'B3' 'B4' 'B4' 'B4' 'B4' 'B4' 'B5' 'B5' 'B5' 'B5' 'C#3' 'C#3'\n",
      " 'C#3' 'C#3' 'C3' 'C3' 'C3' 'C3' 'C#4' 'C4#' 'C#4' 'C#4' 'C#4' 'C4' 'C4'\n",
      " 'C4' 'C4' 'C4' 'C#5' 'C#5' 'C#5' 'C#5' 'C5' 'C5' 'C5' 'C5' 'C6' 'C6' 'C6'\n",
      " 'C6' 'D#3' 'D#3' 'D#3' 'D#3' 'D3' 'D3' 'D3' 'D3' 'D#4' 'D4#' 'D#4' 'D#4'\n",
      " 'D#4' 'D4' 'D4' 'D4' 'D4' 'D4' 'D#5' 'D#5' 'D#5' 'D#5' 'D5' 'D5' 'D5'\n",
      " 'D5' 'E3' 'E3' 'E3' 'E3' 'E4' 'E4' 'E4' 'E4' 'E4' 'E5' 'E5' 'E5' 'E5'\n",
      " 'F#3' 'F3#' 'F#3' 'F#3' 'F3' 'F3' 'F3' 'F3' 'F#4' 'F4#' 'F#4' 'F#4' 'F#4'\n",
      " 'F4' 'F4' 'F4' 'F4' 'F4' 'F#5' 'F#5' 'F#5' 'F#5' 'F5' 'F5' 'F5' 'F5'\n",
      " 'G#3' 'G#3' 'G#3' 'G#3' 'G3' 'G3' 'G3' 'G3' 'G#4' 'G#4' 'G#4' 'G#4' 'G#4'\n",
      " 'G4' 'G4' 'G4' 'G4' 'G4' 'G#5' 'G#5' 'G#5' 'G#5' 'G5' 'G5' 'G5' 'G5']\n",
      "\n",
      "Numar note identificate gresit: 0.\n"
     ]
    }
   ],
   "source": [
    "linii_gresite, nr, y_train = schimbare_label(linii_gresite, nume_fisiere, y_train)"
   ]
  },
  {
   "cell_type": "code",
   "execution_count": 411,
   "id": "39b8dcd1",
   "metadata": {},
   "outputs": [
    {
     "data": {
      "text/plain": [
       "array([[ 234.57446809],\n",
       "       [ 116.66666667],\n",
       "       [ 234.57446809],\n",
       "       [ 234.57446809],\n",
       "       [ 220.5       ],\n",
       "       [ 110.25      ],\n",
       "       [ 220.5       ],\n",
       "       [ 222.72727273],\n",
       "       [ 469.14893617],\n",
       "       [ 469.14893617],\n",
       "       [ 469.14893617],\n",
       "       [ 469.14893617],\n",
       "       [ 479.34782609],\n",
       "       [ 441.        ],\n",
       "       [ 110.25      ],\n",
       "       [ 441.        ],\n",
       "       [ 441.        ],\n",
       "       [ 432.35294118],\n",
       "       [ 310.56338028],\n",
       "       [ 918.75      ],\n",
       "       [ 918.75      ],\n",
       "       [ 918.75      ],\n",
       "       [ 882.        ],\n",
       "       [ 882.        ],\n",
       "       [ 882.        ],\n",
       "       [ 882.        ],\n",
       "       [ 247.75280899],\n",
       "       [ 123.87640449],\n",
       "       [ 247.75280899],\n",
       "       [ 247.75280899],\n",
       "       [ 501.13636364],\n",
       "       [  98.87892377],\n",
       "       [ 501.13636364],\n",
       "       [ 501.13636364],\n",
       "       [ 490.        ],\n",
       "       [1002.27272727],\n",
       "       [1002.27272727],\n",
       "       [1002.27272727],\n",
       "       [1002.27272727],\n",
       "       [ 138.67924528],\n",
       "       [ 138.67924528],\n",
       "       [ 138.67924528],\n",
       "       [ 139.55696203],\n",
       "       [ 131.25      ],\n",
       "       [ 130.47337278],\n",
       "       [ 131.25      ],\n",
       "       [ 131.25      ],\n",
       "       [ 279.11392405],\n",
       "       [ 138.67924528],\n",
       "       [ 279.11392405],\n",
       "       [ 279.11392405],\n",
       "       [ 279.11392405],\n",
       "       [ 262.5       ],\n",
       "       [ 131.25      ],\n",
       "       [ 262.5       ],\n",
       "       [ 262.5       ],\n",
       "       [ 265.6626506 ],\n",
       "       [ 565.38461538],\n",
       "       [ 551.25      ],\n",
       "       [ 565.38461538],\n",
       "       [ 565.38461538],\n",
       "       [ 525.        ],\n",
       "       [ 525.        ],\n",
       "       [ 525.        ],\n",
       "       [ 525.        ],\n",
       "       [1050.        ],\n",
       "       [1050.        ],\n",
       "       [1050.        ],\n",
       "       [1050.        ],\n",
       "       [ 156.38297872],\n",
       "       [ 155.28169014],\n",
       "       [ 156.38297872],\n",
       "       [ 156.38297872],\n",
       "       [ 147.        ],\n",
       "       [ 147.        ],\n",
       "       [ 147.        ],\n",
       "       [ 147.        ],\n",
       "       [ 310.56338028],\n",
       "       [ 103.52112676],\n",
       "       [ 315.        ],\n",
       "       [ 310.56338028],\n",
       "       [ 306.25      ],\n",
       "       [ 294.        ],\n",
       "       [ 294.        ],\n",
       "       [ 294.        ],\n",
       "       [ 294.        ],\n",
       "       [ 302.05479452],\n",
       "       [ 630.        ],\n",
       "       [ 630.        ],\n",
       "       [ 630.        ],\n",
       "       [ 630.        ],\n",
       "       [ 595.94594595],\n",
       "       [ 595.94594595],\n",
       "       [ 595.94594595],\n",
       "       [ 595.94594595],\n",
       "       [ 165.78947368],\n",
       "       [ 164.55223881],\n",
       "       [ 165.78947368],\n",
       "       [ 165.78947368],\n",
       "       [ 165.78947368],\n",
       "       [ 329.10447761],\n",
       "       [ 329.10447761],\n",
       "       [ 329.10447761],\n",
       "       [ 324.26470588],\n",
       "       [ 668.18181818],\n",
       "       [ 668.18181818],\n",
       "       [ 668.18181818],\n",
       "       [ 668.18181818],\n",
       "       [ 185.29411765],\n",
       "       [  92.64705882],\n",
       "       [ 186.86440678],\n",
       "       [ 186.86440678],\n",
       "       [ 175.        ],\n",
       "       [  87.5       ],\n",
       "       [ 175.        ],\n",
       "       [ 176.4       ],\n",
       "       [ 373.72881356],\n",
       "       [ 123.18435754],\n",
       "       [ 373.72881356],\n",
       "       [ 373.72881356],\n",
       "       [ 361.47540984],\n",
       "       [ 350.        ],\n",
       "       [ 350.        ],\n",
       "       [ 350.        ],\n",
       "       [ 350.        ],\n",
       "       [ 344.53125   ],\n",
       "       [ 735.        ],\n",
       "       [ 735.        ],\n",
       "       [ 735.        ],\n",
       "       [ 735.        ],\n",
       "       [ 689.0625    ],\n",
       "       [ 711.29032258],\n",
       "       [ 711.29032258],\n",
       "       [ 689.0625    ],\n",
       "       [ 208.01886792],\n",
       "       [ 208.01886792],\n",
       "       [ 210.        ],\n",
       "       [ 210.        ],\n",
       "       [ 196.875     ],\n",
       "       [  98.        ],\n",
       "       [ 196.875     ],\n",
       "       [ 198.64864865],\n",
       "       [ 416.03773585],\n",
       "       [ 416.03773585],\n",
       "       [ 416.03773585],\n",
       "       [ 416.03773585],\n",
       "       [ 408.33333333],\n",
       "       [ 393.75      ],\n",
       "       [ 393.75      ],\n",
       "       [ 393.75      ],\n",
       "       [ 393.75      ],\n",
       "       [ 386.84210526],\n",
       "       [ 816.66666667],\n",
       "       [ 848.07692308],\n",
       "       [ 848.07692308],\n",
       "       [ 816.66666667],\n",
       "       [ 787.5       ],\n",
       "       [ 787.5       ],\n",
       "       [ 787.5       ],\n",
       "       [ 787.5       ]])"
      ]
     },
     "execution_count": 411,
     "metadata": {},
     "output_type": "execute_result"
    }
   ],
   "source": [
    "X_train.reshape(-1,1)"
   ]
  },
  {
   "cell_type": "code",
   "execution_count": 412,
   "id": "48b4428b",
   "metadata": {},
   "outputs": [
    {
     "data": {
      "text/plain": [
       "array([['A#3'],\n",
       "       ['A3#'],\n",
       "       ['A#3'],\n",
       "       ['A#3'],\n",
       "       ['A3'],\n",
       "       ['A3'],\n",
       "       ['A3'],\n",
       "       ['A3'],\n",
       "       ['A#4'],\n",
       "       ['A#4'],\n",
       "       ['A#4'],\n",
       "       ['A#4'],\n",
       "       ['A#4'],\n",
       "       ['A4'],\n",
       "       ['A4'],\n",
       "       ['A4'],\n",
       "       ['A4'],\n",
       "       ['A4'],\n",
       "       ['A5#'],\n",
       "       ['A#5'],\n",
       "       ['A#5'],\n",
       "       ['A#5'],\n",
       "       ['A5'],\n",
       "       ['A5'],\n",
       "       ['A5'],\n",
       "       ['A5'],\n",
       "       ['B3'],\n",
       "       ['B3'],\n",
       "       ['B3'],\n",
       "       ['B3'],\n",
       "       ['B4'],\n",
       "       ['B4'],\n",
       "       ['B4'],\n",
       "       ['B4'],\n",
       "       ['B4'],\n",
       "       ['B5'],\n",
       "       ['B5'],\n",
       "       ['B5'],\n",
       "       ['B5'],\n",
       "       ['C#3'],\n",
       "       ['C#3'],\n",
       "       ['C#3'],\n",
       "       ['C#3'],\n",
       "       ['C3'],\n",
       "       ['C3'],\n",
       "       ['C3'],\n",
       "       ['C3'],\n",
       "       ['C#4'],\n",
       "       ['C4#'],\n",
       "       ['C#4'],\n",
       "       ['C#4'],\n",
       "       ['C#4'],\n",
       "       ['C4'],\n",
       "       ['C4'],\n",
       "       ['C4'],\n",
       "       ['C4'],\n",
       "       ['C4'],\n",
       "       ['C#5'],\n",
       "       ['C#5'],\n",
       "       ['C#5'],\n",
       "       ['C#5'],\n",
       "       ['C5'],\n",
       "       ['C5'],\n",
       "       ['C5'],\n",
       "       ['C5'],\n",
       "       ['C6'],\n",
       "       ['C6'],\n",
       "       ['C6'],\n",
       "       ['C6'],\n",
       "       ['D#3'],\n",
       "       ['D#3'],\n",
       "       ['D#3'],\n",
       "       ['D#3'],\n",
       "       ['D3'],\n",
       "       ['D3'],\n",
       "       ['D3'],\n",
       "       ['D3'],\n",
       "       ['D#4'],\n",
       "       ['D4#'],\n",
       "       ['D#4'],\n",
       "       ['D#4'],\n",
       "       ['D#4'],\n",
       "       ['D4'],\n",
       "       ['D4'],\n",
       "       ['D4'],\n",
       "       ['D4'],\n",
       "       ['D4'],\n",
       "       ['D#5'],\n",
       "       ['D#5'],\n",
       "       ['D#5'],\n",
       "       ['D#5'],\n",
       "       ['D5'],\n",
       "       ['D5'],\n",
       "       ['D5'],\n",
       "       ['D5'],\n",
       "       ['E3'],\n",
       "       ['E3'],\n",
       "       ['E3'],\n",
       "       ['E3'],\n",
       "       ['E4'],\n",
       "       ['E4'],\n",
       "       ['E4'],\n",
       "       ['E4'],\n",
       "       ['E4'],\n",
       "       ['E5'],\n",
       "       ['E5'],\n",
       "       ['E5'],\n",
       "       ['E5'],\n",
       "       ['F#3'],\n",
       "       ['F3#'],\n",
       "       ['F#3'],\n",
       "       ['F#3'],\n",
       "       ['F3'],\n",
       "       ['F3'],\n",
       "       ['F3'],\n",
       "       ['F3'],\n",
       "       ['F#4'],\n",
       "       ['F4#'],\n",
       "       ['F#4'],\n",
       "       ['F#4'],\n",
       "       ['F#4'],\n",
       "       ['F4'],\n",
       "       ['F4'],\n",
       "       ['F4'],\n",
       "       ['F4'],\n",
       "       ['F4'],\n",
       "       ['F#5'],\n",
       "       ['F#5'],\n",
       "       ['F#5'],\n",
       "       ['F#5'],\n",
       "       ['F5'],\n",
       "       ['F5'],\n",
       "       ['F5'],\n",
       "       ['F5'],\n",
       "       ['G#3'],\n",
       "       ['G#3'],\n",
       "       ['G#3'],\n",
       "       ['G#3'],\n",
       "       ['G3'],\n",
       "       ['G3'],\n",
       "       ['G3'],\n",
       "       ['G3'],\n",
       "       ['G#4'],\n",
       "       ['G#4'],\n",
       "       ['G#4'],\n",
       "       ['G#4'],\n",
       "       ['G#4'],\n",
       "       ['G4'],\n",
       "       ['G4'],\n",
       "       ['G4'],\n",
       "       ['G4'],\n",
       "       ['G4'],\n",
       "       ['G#5'],\n",
       "       ['G#5'],\n",
       "       ['G#5'],\n",
       "       ['G#5'],\n",
       "       ['G5'],\n",
       "       ['G5'],\n",
       "       ['G5'],\n",
       "       ['G5']], dtype=object)"
      ]
     },
     "execution_count": 412,
     "metadata": {},
     "output_type": "execute_result"
    }
   ],
   "source": [
    "y_train.reshape(-1,1)"
   ]
  },
  {
   "cell_type": "code",
   "execution_count": 413,
   "id": "35c39459",
   "metadata": {},
   "outputs": [
    {
     "data": {
      "text/plain": [
       "KNeighborsClassifier()"
      ]
     },
     "execution_count": 413,
     "metadata": {},
     "output_type": "execute_result"
    }
   ],
   "source": [
    "# K Nearest Neighbor\n",
    "# 3 parameters in the model creation:\n",
    "# 1. n_neighbors = 5 neighborhood point required for classifying a point\n",
    "# 2. distance metric = Minkowski, check equation\n",
    "# 3. p = 2, Euclidean distance, parameter in Minkowski equation\n",
    "\n",
    "model = KNeighborsClassifier(n_neighbors=5, metric='minkowski', p=2)\n",
    "X_train = X_train.reshape(-1,1)\n",
    "model.fit(X_train, y_train)"
   ]
  },
  {
   "cell_type": "code",
   "execution_count": 414,
   "id": "7a65b214",
   "metadata": {},
   "outputs": [
    {
     "data": {
      "text/plain": [
       "['knn_autocor_individual.joblib']"
      ]
     },
     "execution_count": 414,
     "metadata": {},
     "output_type": "execute_result"
    }
   ],
   "source": [
    "joblib.dump(model, 'knn_autocor_individual.joblib')      #model salvat"
   ]
  },
  {
   "cell_type": "code",
   "execution_count": 415,
   "id": "64c8d134",
   "metadata": {},
   "outputs": [],
   "source": [
    "df_test = pd.read_csv('autocor_test.csv')\n",
    "\n",
    "nume_fisiere = df_test.iloc[:, 0].values\n",
    "frecvente = df_test.iloc[:, 1].values\n",
    "note = df_test.iloc[:, 2].values\n",
    "\n",
    "X_test = frecvente\n",
    "y_test = note"
   ]
  },
  {
   "cell_type": "code",
   "execution_count": 416,
   "id": "807cc4f8",
   "metadata": {},
   "outputs": [
    {
     "name": "stdout",
     "output_type": "stream",
     "text": [
      "Nota identificata gresit in Excel pe randul 29, nota adevarata A5#, nota falsa A#4.\n",
      "Nota identificata gresit in Excel pe randul 31, nota adevarata A5#, nota falsa A#4.\n",
      "Nota identificata gresit in Excel pe randul 32, nota adevarata A5#, nota falsa A#4.\n",
      "Nota identificata gresit in Excel pe randul 33, nota adevarata A5#, nota falsa D#4.\n",
      "Nota identificata gresit in Excel pe randul 76, nota adevarata C4#, nota falsa D#4.\n",
      "Nota identificata gresit in Excel pe randul 133, nota adevarata D5#, nota falsa D#4.\n",
      "Nota identificata gresit in Excel pe randul 139, nota adevarata D5, nota falsa D4.\n",
      "Nota identificata gresit in Excel pe randul 147, nota adevarata E4, nota falsa E3.\n",
      "Nota identificata gresit in Excel pe randul 149, nota adevarata E4, nota falsa E3.\n",
      "Nota identificata gresit in Excel pe randul 176, nota adevarata F4#, nota falsa F#3.\n",
      "Nota identificata gresit in Excel pe randul 184, nota adevarata F4, nota falsa E4.\n",
      "Nota identificata gresit in Excel pe randul 196, nota adevarata F5, nota falsa F4.\n",
      "Nota identificata gresit in Excel pe randul 224, nota adevarata G5#, nota falsa G#4.\n",
      "Nota identificata gresit in Excel pe randul 225, nota adevarata G5#, nota falsa G#4.\n",
      "Nota identificata gresit in Excel pe randul 226, nota adevarata G5#, nota falsa G#4.\n",
      "Nota identificata gresit in Excel pe randul 227, nota adevarata G5#, nota falsa G#4.\n",
      "Nota identificata gresit in Excel pe randul 228, nota adevarata G5#, nota falsa G#4.\n",
      "\n",
      "Numar note identificate gresit: 17.\n"
     ]
    }
   ],
   "source": [
    "linii_gresite, nr, y_test = identificate_gresit(nume_fisiere, y_test)"
   ]
  },
  {
   "cell_type": "code",
   "execution_count": 417,
   "id": "e958966f",
   "metadata": {},
   "outputs": [
    {
     "name": "stdout",
     "output_type": "stream",
     "text": [
      "\n",
      "S-au schimbat label-urile. Verificam daca mai sunt label-uri gresite...\n",
      "\n",
      "Label-uri dupa schimbare:\n",
      " ['A#3' 'A#3' 'A#3' 'A#3' 'A#3' 'A#3' 'A3' 'A3' 'A3' 'A3' 'A3' 'A3' 'A#4'\n",
      " 'A#4' 'A#4' 'A#4' 'A#4' 'A#4' 'A#4' 'A4' 'A4' 'A4' 'A4' 'A4' 'A4' 'A4'\n",
      " 'A#5' 'A5#' 'A#5' 'A5#' 'A5#' 'A5#' 'A5' 'A5' 'A5' 'A5' 'A5' 'A5' 'B3'\n",
      " 'B3' 'B3' 'B3' 'B3' 'B3' 'B4' 'B4' 'B4' 'B4' 'B4' 'B4' 'B5' 'B5' 'B5'\n",
      " 'B5' 'B5' 'B5' 'C#3' 'C#3' 'C#3' 'C#3' 'C#3' 'C#3' 'C3' 'C3' 'C3' 'C3'\n",
      " 'C3' 'C3' 'C#4' 'C#4' 'C#4' 'C#4' 'C#4' 'C#4' 'C4#' 'C4' 'C4' 'C4' 'C4'\n",
      " 'C4' 'C4' 'C4' 'C#5' 'C#5' 'C#5' 'C#5' 'C#5' 'C#5' 'C5' 'C5' 'C5' 'C5'\n",
      " 'C5' 'C5' 'C6' 'C6' 'C6' 'C6' 'C6' 'C6' 'D#3' 'D#3' 'D#3' 'D#3' 'D#3'\n",
      " 'D#3' 'D3' 'D3' 'D3' 'D3' 'D3' 'D3' 'D#4' 'D#4' 'D#4' 'D#4' 'D#4' 'D#4'\n",
      " 'D#4' 'D4' 'D4' 'D4' 'D4' 'D4' 'D4' 'D4' 'D#5' 'D#5' 'D#5' 'D#5' 'D#5'\n",
      " 'D5#' 'D5' 'D5' 'D5' 'D5' 'D5' 'D5' 'E3' 'E3' 'E3' 'E3' 'E3' 'E3' 'E4'\n",
      " 'E4' 'E4' 'E4' 'E4' 'E4' 'E4' 'E5' 'E5' 'E5' 'E5' 'E5' 'E5' 'F#3' 'F#3'\n",
      " 'F#3' 'F#3' 'F#3' 'F#3' 'F3' 'F3' 'F3' 'F3' 'F3' 'F3' 'F#4' 'F#4' 'F#4'\n",
      " 'F#4' 'F#4' 'F4#' 'F#4' 'F4' 'F4' 'F4' 'F4' 'F4' 'F4' 'F4' 'F#5' 'F#5'\n",
      " 'F#5' 'F#5' 'F#5' 'F#5' 'F5' 'F5' 'F5' 'F5' 'F5' 'F5' 'G#3' 'G#3' 'G#3'\n",
      " 'G#3' 'G#3' 'G#3' 'G3' 'G3' 'G3' 'G3' 'G3' 'G3' 'G#4' 'G#4' 'G#4' 'G#4'\n",
      " 'G#4' 'G#4' 'G#4' 'G4' 'G4' 'G4' 'G4' 'G4' 'G4' 'G4' 'G#5' 'G5#' 'G5#'\n",
      " 'G5#' 'G5#' 'G5#' 'G5' 'G5' 'G5' 'G5' 'G5' 'G5']\n",
      "\n",
      "Numar note identificate gresit: 0.\n"
     ]
    }
   ],
   "source": [
    "linii_gresite, nr, y_test = schimbare_label(linii_gresite, nume_fisiere, y_test)"
   ]
  },
  {
   "cell_type": "code",
   "execution_count": 418,
   "id": "29e0d1ca",
   "metadata": {},
   "outputs": [],
   "source": [
    "model = joblib.load('knn_autocor_individual.joblib')     #model incarcat\n",
    "\n",
    "X_test = X_test.reshape(-1,1)\n",
    "predictii = model.predict(X_test)"
   ]
  },
  {
   "cell_type": "code",
   "execution_count": 419,
   "id": "c23e3493",
   "metadata": {},
   "outputs": [
    {
     "data": {
      "text/plain": [
       "0.9141630901287554"
      ]
     },
     "execution_count": 419,
     "metadata": {},
     "output_type": "execute_result"
    }
   ],
   "source": [
    "score = accuracy_score(y_test, predictii)\n",
    "score       #eroare data de notele gresite din test si de cateva note gresite din modelul de train"
   ]
  },
  {
   "cell_type": "code",
   "execution_count": 420,
   "id": "57ea8398",
   "metadata": {},
   "outputs": [
    {
     "data": {
      "text/plain": [
       "array([[6, 0, 0, ..., 0, 0, 0],\n",
       "       [0, 7, 0, ..., 0, 0, 0],\n",
       "       [0, 0, 2, ..., 0, 0, 0],\n",
       "       ...,\n",
       "       [0, 0, 0, ..., 7, 0, 0],\n",
       "       [0, 0, 0, ..., 0, 6, 0],\n",
       "       [0, 0, 0, ..., 0, 0, 0]], dtype=int64)"
      ]
     },
     "execution_count": 420,
     "metadata": {},
     "output_type": "execute_result"
    }
   ],
   "source": [
    "cm = confusion_matrix(y_test, predictii)\n",
    "cm"
   ]
  },
  {
   "cell_type": "code",
   "execution_count": 421,
   "id": "2aa7e9c5",
   "metadata": {},
   "outputs": [],
   "source": [
    "#acum un test cu stergerea liniilor gresite din test"
   ]
  },
  {
   "cell_type": "code",
   "execution_count": 422,
   "id": "8e4aa886",
   "metadata": {},
   "outputs": [
    {
     "name": "stdout",
     "output_type": "stream",
     "text": [
      "Nota identificata gresit in Excel pe randul 29, nota adevarata A5#, nota falsa A#4.\n",
      "Nota identificata gresit in Excel pe randul 31, nota adevarata A5#, nota falsa A#4.\n",
      "Nota identificata gresit in Excel pe randul 32, nota adevarata A5#, nota falsa A#4.\n",
      "Nota identificata gresit in Excel pe randul 33, nota adevarata A5#, nota falsa D#4.\n",
      "Nota identificata gresit in Excel pe randul 76, nota adevarata C4#, nota falsa D#4.\n",
      "Nota identificata gresit in Excel pe randul 133, nota adevarata D5#, nota falsa D#4.\n",
      "Nota identificata gresit in Excel pe randul 139, nota adevarata D5, nota falsa D4.\n",
      "Nota identificata gresit in Excel pe randul 147, nota adevarata E4, nota falsa E3.\n",
      "Nota identificata gresit in Excel pe randul 149, nota adevarata E4, nota falsa E3.\n",
      "Nota identificata gresit in Excel pe randul 176, nota adevarata F4#, nota falsa F#3.\n",
      "Nota identificata gresit in Excel pe randul 184, nota adevarata F4, nota falsa E4.\n",
      "Nota identificata gresit in Excel pe randul 196, nota adevarata F5, nota falsa F4.\n",
      "Nota identificata gresit in Excel pe randul 224, nota adevarata G5#, nota falsa G#4.\n",
      "Nota identificata gresit in Excel pe randul 225, nota adevarata G5#, nota falsa G#4.\n",
      "Nota identificata gresit in Excel pe randul 226, nota adevarata G5#, nota falsa G#4.\n",
      "Nota identificata gresit in Excel pe randul 227, nota adevarata G5#, nota falsa G#4.\n",
      "Nota identificata gresit in Excel pe randul 228, nota adevarata G5#, nota falsa G#4.\n",
      "\n",
      "Numar note identificate gresit: 17.\n"
     ]
    }
   ],
   "source": [
    "df_test = pd.read_csv('autocor_test.csv')\n",
    "\n",
    "nume_fisiere = df_test.iloc[:, 0].values\n",
    "frecvente = df_test.iloc[:, 1].values\n",
    "note = df_test.iloc[:, 2].values\n",
    "\n",
    "X_test = frecvente\n",
    "y_test = note\n",
    "\n",
    "linii_gresite, nr, y_test = identificate_gresit(nume_fisiere, y_test)"
   ]
  },
  {
   "cell_type": "code",
   "execution_count": 423,
   "id": "810608b8",
   "metadata": {},
   "outputs": [],
   "source": [
    "nume_fisiere, X_test, y_test = stergere_gresite(nume_fisiere, X_test, y_test, linii_gresite)"
   ]
  },
  {
   "cell_type": "code",
   "execution_count": 424,
   "id": "541f2d6a",
   "metadata": {},
   "outputs": [],
   "source": [
    "X_test = X_test.reshape(-1,1)\n",
    "predictii = model.predict(X_test)"
   ]
  },
  {
   "cell_type": "code",
   "execution_count": 425,
   "id": "c3ce973f",
   "metadata": {},
   "outputs": [
    {
     "data": {
      "text/plain": [
       "0.9861111111111112"
      ]
     },
     "execution_count": 425,
     "metadata": {},
     "output_type": "execute_result"
    }
   ],
   "source": [
    "score = accuracy_score(y_test, predictii)\n",
    "score         #accuracy mai mare, doar eroare de train"
   ]
  },
  {
   "cell_type": "code",
   "execution_count": 426,
   "id": "1caec8c4",
   "metadata": {},
   "outputs": [
    {
     "data": {
      "text/plain": [
       "array([[6, 0, 0, ..., 0, 0, 0],\n",
       "       [0, 7, 0, ..., 0, 0, 0],\n",
       "       [0, 0, 2, ..., 0, 0, 0],\n",
       "       ...,\n",
       "       [0, 0, 0, ..., 6, 0, 0],\n",
       "       [0, 0, 0, ..., 0, 7, 0],\n",
       "       [0, 0, 0, ..., 0, 0, 6]], dtype=int64)"
      ]
     },
     "execution_count": 426,
     "metadata": {},
     "output_type": "execute_result"
    }
   ],
   "source": [
    "cm = confusion_matrix(y_test, predictii)\n",
    "cm"
   ]
  },
  {
   "cell_type": "code",
   "execution_count": 427,
   "id": "29c41310",
   "metadata": {},
   "outputs": [],
   "source": [
    "#daca se scade numarul de vecini din model, se observa o usoara crestere a acuratetii"
   ]
  }
 ],
 "metadata": {
  "kernelspec": {
   "display_name": "Python 3 (ipykernel)",
   "language": "python",
   "name": "python3"
  },
  "language_info": {
   "codemirror_mode": {
    "name": "ipython",
    "version": 3
   },
   "file_extension": ".py",
   "mimetype": "text/x-python",
   "name": "python",
   "nbconvert_exporter": "python",
   "pygments_lexer": "ipython3",
   "version": "3.9.7"
  }
 },
 "nbformat": 4,
 "nbformat_minor": 5
}
