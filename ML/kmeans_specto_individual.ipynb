{
 "cells": [
  {
   "cell_type": "code",
   "execution_count": 1,
   "id": "e9f49b34",
   "metadata": {},
   "outputs": [],
   "source": [
    "import numpy as np\n",
    "import pandas as pd\n",
    "import matplotlib.pyplot as plt\n",
    "import seaborn as sns\n",
    "sns.set()\n",
    "import os\n",
    "import cv2\n",
    "\n",
    "from sklearn.preprocessing import LabelEncoder\n",
    "from sklearn.cluster import MiniBatchKMeans\n",
    "from sklearn.metrics import accuracy_score\n",
    "\n",
    "   \n",
    "def kmeans_acuratete(clustere, clase):\n",
    "    dictionar = {}\n",
    "    clustere_unice = np.unique(clustere)\n",
    "    for i in range(len(clustere_unice)):\n",
    "        masca = np.where(clustere == i, 1, 0)\n",
    "        aparitii_etichete = np.bincount(clase[masca==1])\n",
    "        eticheta_aleasa = aparitii_etichete.argmax()\n",
    "        dictionar[i] = eticheta_aleasa\n",
    "\n",
    "    clustere_clase = np.random.rand(len(clustere))\n",
    "    for i in range(len(clustere)):\n",
    "        clustere_clase[i] = dictionar[clustere[i]]\n",
    "\n",
    "    acuratete = accuracy_score(clustere_clase, clase)\n",
    "    \n",
    "    return acuratete, clustere_clase"
   ]
  },
  {
   "cell_type": "code",
   "execution_count": 2,
   "id": "6816d984",
   "metadata": {},
   "outputs": [
    {
     "name": "stderr",
     "output_type": "stream",
     "text": [
      "D:\\Installed\\Anaconda\\lib\\site-packages\\sklearn\\cluster\\_kmeans.py:887: UserWarning: MiniBatchKMeans is known to have a memory leak on Windows with MKL, when there are less chunks than available threads. You can prevent it by setting batch_size >= 2048 or by setting the environment variable OMP_NUM_THREADS=1\n",
      "  warnings.warn(\n",
      "D:\\Installed\\Anaconda\\lib\\site-packages\\sklearn\\cluster\\_kmeans.py:887: UserWarning: MiniBatchKMeans is known to have a memory leak on Windows with MKL, when there are less chunks than available threads. You can prevent it by setting batch_size >= 2048 or by setting the environment variable OMP_NUM_THREADS=1\n",
      "  warnings.warn(\n"
     ]
    },
    {
     "name": "stdout",
     "output_type": "stream",
     "text": [
      "Acuratete: 0.46564885496183206\n",
      "\n",
      "\n"
     ]
    }
   ],
   "source": [
    "# Fara filtrare liniste\n",
    "\n",
    "folder = 'spectograme_trainsitest'\n",
    "path_folder = os.path.join(os.getcwd(), folder)\n",
    "fisiere = os.listdir(path_folder)\n",
    "path_fisiere = [os.path.join(path_folder, i) for i in fisiere]\n",
    "\n",
    "imagini = [cv2.imread(i) for i in path_fisiere]\n",
    "imagini = np.array(imagini)\n",
    "dim = len(imagini[0]) * len(imagini[0][0]) * 3\n",
    "imagini = imagini.reshape((imagini.shape[0]), dim)\n",
    "\n",
    "X = imagini\n",
    "kmeans = MiniBatchKMeans(n_clusters=37)\n",
    "kmeans.fit(X)           \n",
    "clustere = kmeans.fit_predict(X)\n",
    "\n",
    "note = [i[:3] if i[2]=='#' else i[:2] for i in fisiere]\n",
    "note = np.array(note)\n",
    "le = LabelEncoder()\n",
    "clase = le.fit_transform(note)\n",
    "\n",
    "acuratete, clustere_clase = kmeans_acuratete(clustere, clase)\n",
    "print('Acuratete:', acuratete)\n",
    "\n",
    "print('\\n')"
   ]
  },
  {
   "cell_type": "code",
   "execution_count": 3,
   "id": "03c58523",
   "metadata": {},
   "outputs": [
    {
     "name": "stderr",
     "output_type": "stream",
     "text": [
      "D:\\Installed\\Anaconda\\lib\\site-packages\\sklearn\\cluster\\_kmeans.py:887: UserWarning: MiniBatchKMeans is known to have a memory leak on Windows with MKL, when there are less chunks than available threads. You can prevent it by setting batch_size >= 2048 or by setting the environment variable OMP_NUM_THREADS=1\n",
      "  warnings.warn(\n",
      "D:\\Installed\\Anaconda\\lib\\site-packages\\sklearn\\cluster\\_kmeans.py:887: UserWarning: MiniBatchKMeans is known to have a memory leak on Windows with MKL, when there are less chunks than available threads. You can prevent it by setting batch_size >= 2048 or by setting the environment variable OMP_NUM_THREADS=1\n",
      "  warnings.warn(\n"
     ]
    },
    {
     "name": "stdout",
     "output_type": "stream",
     "text": [
      "Acuratete: 0.6768447837150128\n",
      "\n",
      "\n"
     ]
    }
   ],
   "source": [
    "# Cu filtrare liniste 10dB\n",
    "\n",
    "folder = 'spectograme_trainsitest_filtrate'\n",
    "path_folder = os.path.join(os.getcwd(), folder)\n",
    "fisiere = os.listdir(path_folder)\n",
    "path_fisiere = [os.path.join(path_folder, i) for i in fisiere]\n",
    "\n",
    "imagini = [cv2.imread(i) for i in path_fisiere]\n",
    "imagini = np.array(imagini)\n",
    "dim = len(imagini[0]) * len(imagini[0][0]) * 3\n",
    "imagini = imagini.reshape((imagini.shape[0]), dim)\n",
    "\n",
    "X = imagini\n",
    "kmeans = MiniBatchKMeans(n_clusters=37)\n",
    "kmeans.fit(X)           \n",
    "clustere = kmeans.fit_predict(X)\n",
    "\n",
    "note = [i[:3] if i[2]=='#' else i[:2] for i in fisiere]\n",
    "note = np.array(note)\n",
    "le = LabelEncoder()\n",
    "clase = le.fit_transform(note)\n",
    "\n",
    "acuratete, clustere_clase = kmeans_acuratete(clustere, clase)\n",
    "print('Acuratete:', acuratete)\n",
    "\n",
    "print('\\n')"
   ]
  },
  {
   "cell_type": "code",
   "execution_count": 4,
   "id": "2663a568",
   "metadata": {},
   "outputs": [],
   "source": [
    "# Pentru mai multe praguri de filtrare"
   ]
  },
  {
   "cell_type": "code",
   "execution_count": 5,
   "id": "928dde70",
   "metadata": {},
   "outputs": [],
   "source": [
    "# def kmeans_specto_scoruri_prag(foldere, scoruri_iteratie):\n",
    "#     for i in foldere:\n",
    "\n",
    "#         path_folder = os.path.join(os.getcwd(), i)\n",
    "#         fisiere = os.listdir(path_folder)\n",
    "#         path_fisiere = [os.path.join(path_folder, i) for i in fisiere]\n",
    "\n",
    "#         imagini = [cv2.imread(i) for i in path_fisiere]\n",
    "#         imagini = np.array(imagini)\n",
    "#         dim = len(imagini[0]) * len(imagini[0][0]) * 3\n",
    "#         imagini = imagini.reshape((imagini.shape[0]), dim)\n",
    "\n",
    "#         X = imagini\n",
    "#         kmeans = MiniBatchKMeans(n_clusters=37)\n",
    "#         kmeans.fit(X)\n",
    "#         indecsi_clustere = kmeans.fit_predict(X)\n",
    "\n",
    "#         note = [i[:3] if i[2]=='#' else i[:2] for i in fisiere]\n",
    "#         note = np.array(note)\n",
    "#         le = LabelEncoder()\n",
    "#         clase = le.fit_transform(note)\n",
    "\n",
    "#         acuratete, clustere_clase = kmeans_acuratete(clustere, clase)\n",
    "#         print('Scor', i[i.find('prag'):], acuratete)\n",
    "#         scoruri_iteratie.append(acuratete"
   ]
  },
  {
   "cell_type": "code",
   "execution_count": 6,
   "id": "27d2e2f3",
   "metadata": {},
   "outputs": [],
   "source": [
    "# # Date antrenare\n",
    "# praguri = [5, 7, 9, 10, 11, 13, 15, 17, 20, 25, 30]\n",
    "# foldere = ['spectograme_trainsitest_filtrate_prag' + str(i) + 'db' for i in praguri]\n",
    "# scoruri_testbench = []\n",
    "\n",
    "# iteratii = 1\n",
    "\n",
    "# for i in range(1, iteratii+1):\n",
    "#     print(\"\\nIteratia numarul \", str(i))\n",
    "#     scoruri_iteratie = []\n",
    "#     kmeans_specto_scoruri_prag(foldere, scoruri_iteratie)\n",
    "#     scoruri_testbench.append(scoruri_iteratie)\n",
    "    \n",
    "# scoruri_medii = []\n",
    "# d = dict()\n",
    "# for i in range(len(praguri)):\n",
    "#     cheie = 'prag' + str(praguri[i]) + 'db'\n",
    "#     d[cheie] = []\n",
    "    \n",
    "#     for j in range(len(scoruri_testbench)):\n",
    "#         d[cheie].append(scoruri_testbench[j][i])\n",
    "    \n",
    "#     suma_scoruri = sum(d[cheie])\n",
    "#     scor_mediu = suma_scoruri / len(d[cheie])\n",
    "\n",
    "#     print('Scor mediu', cheie, ':', scor_mediu"
   ]
  }
 ],
 "metadata": {
  "kernelspec": {
   "display_name": "Python 3 (ipykernel)",
   "language": "python",
   "name": "python3"
  },
  "language_info": {
   "codemirror_mode": {
    "name": "ipython",
    "version": 3
   },
   "file_extension": ".py",
   "mimetype": "text/x-python",
   "name": "python",
   "nbconvert_exporter": "python",
   "pygments_lexer": "ipython3",
   "version": "3.9.7"
  }
 },
 "nbformat": 4,
 "nbformat_minor": 5
}
