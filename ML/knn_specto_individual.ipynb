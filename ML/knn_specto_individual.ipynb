{
 "cells": [
  {
   "cell_type": "code",
   "execution_count": 7,
   "id": "8f3204b7",
   "metadata": {},
   "outputs": [],
   "source": [
    "from sklearn.model_selection import train_test_split\n",
    "import matplotlib.pyplot as plt\n",
    "import numpy as np\n",
    "from sklearn.neighbors import KNeighborsClassifier\n",
    "import os\n",
    "import librosa, librosa.display"
   ]
  },
  {
   "cell_type": "code",
   "execution_count": 8,
   "id": "c3cda3ac",
   "metadata": {},
   "outputs": [
    {
     "ename": "FileNotFoundError",
     "evalue": "[WinError 3] The system cannot find the path specified: 'C:\\\\Users\\\\bogdan1.bratu\\\\PycharmProjects\\\\Project1\\\\Notes-recognition\\\\ML\\\\note_train&test'",
     "output_type": "error",
     "traceback": [
      "\u001b[1;31m---------------------------------------------------------------------------\u001b[0m",
      "\u001b[1;31mFileNotFoundError\u001b[0m                         Traceback (most recent call last)",
      "Input \u001b[1;32mIn [8]\u001b[0m, in \u001b[0;36m<cell line: 6>\u001b[1;34m()\u001b[0m\n\u001b[0;32m      3\u001b[0m folder \u001b[38;5;241m=\u001b[39m \u001b[38;5;124m'\u001b[39m\u001b[38;5;124mnote_train&test\u001b[39m\u001b[38;5;124m'\u001b[39m                              \u001b[38;5;66;03m# folderul cu fisiere .wav\u001b[39;00m\n\u001b[0;32m      4\u001b[0m path_folder \u001b[38;5;241m=\u001b[39m os\u001b[38;5;241m.\u001b[39mpath\u001b[38;5;241m.\u001b[39mjoin(path, folder)                \u001b[38;5;66;03m# asta in cazul in care folderul 'audio' este in proiect\u001b[39;00m\n\u001b[1;32m----> 6\u001b[0m fisiere \u001b[38;5;241m=\u001b[39m \u001b[43mos\u001b[49m\u001b[38;5;241;43m.\u001b[39;49m\u001b[43mlistdir\u001b[49m\u001b[43m(\u001b[49m\u001b[43mpath_folder\u001b[49m\u001b[43m)\u001b[49m                       \u001b[38;5;66;03m# lista cu toate fisierele\u001b[39;00m\n\u001b[0;32m      8\u001b[0m path_fisiere \u001b[38;5;241m=\u001b[39m [os\u001b[38;5;241m.\u001b[39mpath\u001b[38;5;241m.\u001b[39mjoin(path_folder, fisiere[i]) \u001b[38;5;28;01mfor\u001b[39;00m i \u001b[38;5;129;01min\u001b[39;00m \u001b[38;5;28mrange\u001b[39m(\u001b[38;5;28mlen\u001b[39m(fisiere))]\n",
      "\u001b[1;31mFileNotFoundError\u001b[0m: [WinError 3] The system cannot find the path specified: 'C:\\\\Users\\\\bogdan1.bratu\\\\PycharmProjects\\\\Project1\\\\Notes-recognition\\\\ML\\\\note_train&test'"
     ]
    }
   ],
   "source": [
    "path = os.getcwd()                                      # calea proiectului\n",
    "\n",
    "folder = 'note_train&test'                              # folderul cu fisiere .wav\n",
    "path_folder = os.path.join(path, folder)                # asta in cazul in care folderul 'audio' este in proiect\n",
    "\n",
    "fisiere = os.listdir(path_folder)                       # lista cu toate fisierele\n",
    "\n",
    "path_fisiere = [os.path.join(path_folder, fisiere[i]) for i in range(len(fisiere))]"
   ]
  },
  {
   "cell_type": "code",
   "execution_count": 2,
   "id": "f34cafe7",
   "metadata": {},
   "outputs": [
    {
     "ename": "NameError",
     "evalue": "name 'path_fisiere' is not defined",
     "output_type": "error",
     "traceback": [
      "\u001b[1;31m---------------------------------------------------------------------------\u001b[0m",
      "\u001b[1;31mNameError\u001b[0m                                 Traceback (most recent call last)",
      "Input \u001b[1;32mIn [2]\u001b[0m, in \u001b[0;36m<cell line: 1>\u001b[1;34m()\u001b[0m\n\u001b[1;32m----> 1\u001b[0m \u001b[43mpath_fisiere\u001b[49m\n",
      "\u001b[1;31mNameError\u001b[0m: name 'path_fisiere' is not defined"
     ]
    }
   ],
   "source": [
    "path_fisiere"
   ]
  },
  {
   "cell_type": "code",
   "execution_count": null,
   "id": "7a6959fc",
   "metadata": {},
   "outputs": [],
   "source": [
    "S= []\n",
    "for i in path_fisiere:                        \n",
    "    y, sr = librosa.load(i)\n",
    "    \n",
    "    S.append(librosa.feature.melspectrogram(y=y, sr=sr))\n",
    "S"
   ]
  },
  {
   "cell_type": "code",
   "execution_count": null,
   "id": "52a39eb5",
   "metadata": {},
   "outputs": [],
   "source": []
  }
 ],
 "metadata": {
  "kernelspec": {
   "display_name": "Python 3 (ipykernel)",
   "language": "python",
   "name": "python3"
  },
  "language_info": {
   "codemirror_mode": {
    "name": "ipython",
    "version": 3
   },
   "file_extension": ".py",
   "mimetype": "text/x-python",
   "name": "python",
   "nbconvert_exporter": "python",
   "pygments_lexer": "ipython3",
   "version": "3.9.12"
  }
 },
 "nbformat": 4,
 "nbformat_minor": 5
}
