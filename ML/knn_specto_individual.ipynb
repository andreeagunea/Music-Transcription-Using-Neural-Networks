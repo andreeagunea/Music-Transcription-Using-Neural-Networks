{
 "cells": [
  {
   "cell_type": "code",
   "execution_count": 1,
   "id": "8055ecdf",
   "metadata": {},
   "outputs": [],
   "source": [
    "import numpy as np\n",
    "import os\n",
    "\n",
    "import cv2\n",
    "\n",
    "from sklearn.neighbors import KNeighborsClassifier\n",
    "from sklearn.preprocessing import LabelEncoder\n",
    "import joblib\n",
    "from sklearn.metrics import confusion_matrix, accuracy_score"
   ]
  },
  {
   "cell_type": "code",
   "execution_count": 18,
   "id": "4ab3d20b",
   "metadata": {},
   "outputs": [
    {
     "name": "stdout",
     "output_type": "stream",
     "text": [
      "\n",
      "Acuratete: 0.65\n"
     ]
    }
   ],
   "source": [
    "# Fara filtrare liniste\n",
    "folder = 'spectograme_train'\n",
    "path_folder = os.path.join(os.getcwd(), folder)\n",
    "fisiere = os.listdir(path_folder)\n",
    "path_fisiere = [os.path.join(path_folder, i) for i in fisiere]\n",
    "\n",
    "imagini = [cv2.imread(i) for i in path_fisiere]\n",
    "imagini = np.array(imagini)\n",
    "dim = len(imagini[0]) * len(imagini[0][0]) * 3\n",
    "imagini = imagini.reshape((imagini.shape[0]), dim)\n",
    "\n",
    "clase = [i[:3] if i[2]=='#' else i[:2] for i in fisiere]\n",
    "le = LabelEncoder()\n",
    "clase = le.fit_transform(clase)\n",
    "\n",
    "X_train = imagini\n",
    "y_train = clase\n",
    "\n",
    "# Date testare\n",
    "folder = 'spectograme_test'\n",
    "path_folder = os.path.join(os.getcwd(), folder)\n",
    "fisiere = os.listdir(path_folder)\n",
    "path_fisiere = [os.path.join(path_folder, i) for i in fisiere]\n",
    "\n",
    "imagini = [cv2.imread(i) for i in path_fisiere]\n",
    "imagini = np.array(imagini)\n",
    "dim = len(imagini[0]) * len(imagini[0][0]) * 3\n",
    "imagini = imagini.reshape((imagini.shape[0]), dim)\n",
    "\n",
    "clase = [i[:3] if i[2]=='#' else i[:2] for i in fisiere]\n",
    "le = LabelEncoder()\n",
    "clase = le.fit_transform(clase)\n",
    "\n",
    "X_test = imagini\n",
    "y_test = clase\n",
    "\n",
    "# Antrenare\n",
    "model = KNeighborsClassifier(n_neighbors=4, metric='euclidean')\n",
    "model.fit(X_train, y_train)\n",
    "\n",
    "# Testare\n",
    "predictii = model.predict(X_test)\n",
    "acuratete = accuracy_score(y_test, predictii)\n",
    "print(\"\\nAcuratete:\", acuratete)"
   ]
  },
  {
   "cell_type": "code",
   "execution_count": 11,
   "id": "9ceac033",
   "metadata": {},
   "outputs": [
    {
     "name": "stdout",
     "output_type": "stream",
     "text": [
      "\n",
      "Acuratete: 0.84375\n"
     ]
    }
   ],
   "source": [
    "# Filtrare 10dB\n",
    "folder = 'spectograme_train_filtrate'\n",
    "path_folder = os.path.join(os.getcwd(), folder)\n",
    "fisiere = os.listdir(path_folder)\n",
    "path_fisiere = [os.path.join(path_folder, i) for i in fisiere]\n",
    "\n",
    "imagini = [cv2.imread(i) for i in path_fisiere]\n",
    "imagini = np.array(imagini)\n",
    "dim = len(imagini[0]) * len(imagini[0][0]) * 3\n",
    "imagini = imagini.reshape((imagini.shape[0]), dim)\n",
    "\n",
    "clase = [i[:3] if i[2]=='#' else i[:2] for i in fisiere]\n",
    "le = LabelEncoder()\n",
    "clase = le.fit_transform(clase)\n",
    "\n",
    "X_train = imagini\n",
    "y_train = clase\n",
    "\n",
    "# Date testare\n",
    "folder = 'spectograme_test_filtrate'\n",
    "path_folder = os.path.join(os.getcwd(), folder)\n",
    "fisiere = os.listdir(path_folder)\n",
    "path_fisiere = [os.path.join(path_folder, i) for i in fisiere]\n",
    "\n",
    "imagini = [cv2.imread(i) for i in path_fisiere]\n",
    "imagini = np.array(imagini)\n",
    "dim = len(imagini[0]) * len(imagini[0][0]) * 3\n",
    "imagini = imagini.reshape((imagini.shape[0]), dim)\n",
    "\n",
    "clase = [i[:3] if i[2]=='#' else i[:2] for i in fisiere]\n",
    "le = LabelEncoder()\n",
    "clase = le.fit_transform(clase)\n",
    "\n",
    "X_test = imagini\n",
    "y_test = clase\n",
    "\n",
    "# Antrenare\n",
    "model = KNeighborsClassifier(n_neighbors=5, metric='euclidean')\n",
    "model.fit(X_train, y_train)\n",
    "\n",
    "# Testare\n",
    "predictii = model.predict(X_test)\n",
    "acuratete = accuracy_score(y_test, predictii)\n",
    "print(\"\\nAcuratete:\", acuratete)"
   ]
  },
  {
   "cell_type": "code",
   "execution_count": 14,
   "id": "1538f025",
   "metadata": {},
   "outputs": [
    {
     "data": {
      "text/plain": [
       "0.875"
      ]
     },
     "execution_count": 14,
     "metadata": {},
     "output_type": "execute_result"
    }
   ],
   "source": [
    "# Filtrare optima_11dB\n",
    "\n",
    "# Date antrenare\n",
    "folder = 'spectograme_train_filtrate_prag11db'\n",
    "path_folder = os.path.join(os.getcwd(), folder)\n",
    "fisiere = os.listdir(path_folder)\n",
    "path_fisiere = [os.path.join(path_folder, i) for i in fisiere]\n",
    "\n",
    "imagini = [cv2.imread(i) for i in path_fisiere]\n",
    "imagini = np.array(imagini)\n",
    "dim = len(imagini[0]) * len(imagini[0][0]) * 3\n",
    "imagini = imagini.reshape((imagini.shape[0]), dim)\n",
    "\n",
    "clase = [i[:3] if i[2]=='#' else i[:2] for i in fisiere]\n",
    "le = LabelEncoder()\n",
    "clase = le.fit_transform(clase)\n",
    "\n",
    "X_train = imagini\n",
    "y_train = clase\n",
    "\n",
    "# Date testare\n",
    "folder = 'spectograme_test_filtrate_prag11db'\n",
    "path_folder = os.path.join(os.getcwd(), folder)\n",
    "fisiere = os.listdir(path_folder)\n",
    "path_fisiere = [os.path.join(path_folder, i) for i in fisiere]\n",
    "\n",
    "imagini = [cv2.imread(i) for i in path_fisiere]\n",
    "imagini = np.array(imagini)\n",
    "dim = len(imagini[0]) * len(imagini[0][0]) * 3\n",
    "imagini = imagini.reshape((imagini.shape[0]), dim)\n",
    "\n",
    "clase = [i[:3] if i[2]=='#' else i[:2] for i in fisiere]\n",
    "le = LabelEncoder()\n",
    "clase = le.fit_transform(clase)\n",
    "\n",
    "X_test = imagini\n",
    "y_test = clase\n",
    "\n",
    "# Antrenare\n",
    "model = KNeighborsClassifier(n_neighbors=5, metric='euclidean')\n",
    "model.fit(X_train, y_train)\n",
    "\n",
    "# Testare\n",
    "predictii = model.predict(X_test)\n",
    "acuratete_filtrate = accuracy_score(y_test, predictii)\n",
    "acuratete_filtrate"
   ]
  },
  {
   "cell_type": "code",
   "execution_count": null,
   "id": "e6083a5e",
   "metadata": {},
   "outputs": [],
   "source": []
  }
 ],
 "metadata": {
  "kernelspec": {
   "display_name": "Python 3 (ipykernel)",
   "language": "python",
   "name": "python3"
  },
  "language_info": {
   "codemirror_mode": {
    "name": "ipython",
    "version": 3
   },
   "file_extension": ".py",
   "mimetype": "text/x-python",
   "name": "python",
   "nbconvert_exporter": "python",
   "pygments_lexer": "ipython3",
   "version": "3.9.7"
  }
 },
 "nbformat": 4,
 "nbformat_minor": 5
}
