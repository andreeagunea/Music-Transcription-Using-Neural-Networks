{
 "cells": [
  {
   "cell_type": "code",
   "execution_count": 6,
   "id": "2b6a5356",
   "metadata": {},
   "outputs": [
    {
     "ename": "SubConverterFileIOException",
     "evalue": "png file of xml not found. Or file >999 pages?",
     "output_type": "error",
     "traceback": [
      "\u001b[1;31m---------------------------------------------------------------------------\u001b[0m",
      "\u001b[1;31mSubConverterFileIOException\u001b[0m               Traceback (most recent call last)",
      "\u001b[1;32m~\\AppData\\Local\\Temp/ipykernel_2656/4050881092.py\u001b[0m in \u001b[0;36m<module>\u001b[1;34m\u001b[0m\n\u001b[0;32m     24\u001b[0m             \u001b[0ms\u001b[0m\u001b[1;33m.\u001b[0m\u001b[0mappend\u001b[0m\u001b[1;33m(\u001b[0m\u001b[1;33m[\u001b[0m\u001b[0mn\u001b[0m\u001b[1;33m]\u001b[0m\u001b[1;33m)\u001b[0m\u001b[1;33m\u001b[0m\u001b[1;33m\u001b[0m\u001b[0m\n\u001b[0;32m     25\u001b[0m \u001b[1;33m\u001b[0m\u001b[0m\n\u001b[1;32m---> 26\u001b[1;33m \u001b[0ms\u001b[0m\u001b[1;33m.\u001b[0m\u001b[0mshow\u001b[0m\u001b[1;33m(\u001b[0m\u001b[1;33m)\u001b[0m\u001b[1;33m\u001b[0m\u001b[1;33m\u001b[0m\u001b[0m\n\u001b[0m",
      "\u001b[1;32mD:\\Installed\\Anaconda\\lib\\site-packages\\music21\\stream\\__init__.py\u001b[0m in \u001b[0;36mshow\u001b[1;34m(self, *args, **kwargs)\u001b[0m\n\u001b[0;32m    257\u001b[0m         \u001b[1;32mif\u001b[0m \u001b[0mself\u001b[0m\u001b[1;33m.\u001b[0m\u001b[0misSorted\u001b[0m \u001b[1;32mis\u001b[0m \u001b[1;32mFalse\u001b[0m \u001b[1;32mand\u001b[0m \u001b[0mself\u001b[0m\u001b[1;33m.\u001b[0m\u001b[0mautoSort\u001b[0m\u001b[1;33m:\u001b[0m\u001b[1;33m\u001b[0m\u001b[1;33m\u001b[0m\u001b[0m\n\u001b[0;32m    258\u001b[0m             \u001b[0mself\u001b[0m\u001b[1;33m.\u001b[0m\u001b[0msort\u001b[0m\u001b[1;33m(\u001b[0m\u001b[1;33m)\u001b[0m\u001b[1;33m\u001b[0m\u001b[1;33m\u001b[0m\u001b[0m\n\u001b[1;32m--> 259\u001b[1;33m         \u001b[1;32mreturn\u001b[0m \u001b[0msuper\u001b[0m\u001b[1;33m(\u001b[0m\u001b[1;33m)\u001b[0m\u001b[1;33m.\u001b[0m\u001b[0mshow\u001b[0m\u001b[1;33m(\u001b[0m\u001b[1;33m*\u001b[0m\u001b[0margs\u001b[0m\u001b[1;33m,\u001b[0m \u001b[1;33m**\u001b[0m\u001b[0mkwargs\u001b[0m\u001b[1;33m)\u001b[0m\u001b[1;33m\u001b[0m\u001b[1;33m\u001b[0m\u001b[0m\n\u001b[0m\u001b[0;32m    260\u001b[0m \u001b[1;33m\u001b[0m\u001b[0m\n\u001b[0;32m    261\u001b[0m     \u001b[1;31m# --------------------------------------------------------------------------\u001b[0m\u001b[1;33m\u001b[0m\u001b[1;33m\u001b[0m\u001b[0m\n",
      "\u001b[1;32mD:\\Installed\\Anaconda\\lib\\site-packages\\music21\\base.py\u001b[0m in \u001b[0;36mshow\u001b[1;34m(self, fmt, app, **keywords)\u001b[0m\n\u001b[0;32m   2624\u001b[0m         \u001b[0mscClass\u001b[0m \u001b[1;33m=\u001b[0m \u001b[0mcommon\u001b[0m\u001b[1;33m.\u001b[0m\u001b[0mfindSubConverterForFormat\u001b[0m\u001b[1;33m(\u001b[0m\u001b[0mregularizedConverterFormat\u001b[0m\u001b[1;33m)\u001b[0m\u001b[1;33m\u001b[0m\u001b[1;33m\u001b[0m\u001b[0m\n\u001b[0;32m   2625\u001b[0m         \u001b[0mformatWriter\u001b[0m \u001b[1;33m=\u001b[0m \u001b[0mscClass\u001b[0m\u001b[1;33m(\u001b[0m\u001b[1;33m)\u001b[0m\u001b[1;33m\u001b[0m\u001b[1;33m\u001b[0m\u001b[0m\n\u001b[1;32m-> 2626\u001b[1;33m         return formatWriter.show(self,\n\u001b[0m\u001b[0;32m   2627\u001b[0m                                  \u001b[0mregularizedConverterFormat\u001b[0m\u001b[1;33m,\u001b[0m\u001b[1;33m\u001b[0m\u001b[1;33m\u001b[0m\u001b[0m\n\u001b[0;32m   2628\u001b[0m                                  \u001b[0mapp\u001b[0m\u001b[1;33m=\u001b[0m\u001b[0mapp\u001b[0m\u001b[1;33m,\u001b[0m\u001b[1;33m\u001b[0m\u001b[1;33m\u001b[0m\u001b[0m\n",
      "\u001b[1;32mD:\\Installed\\Anaconda\\lib\\site-packages\\music21\\converter\\subConverters.py\u001b[0m in \u001b[0;36mshow\u001b[1;34m(self, obj, fmt, app, subformats, **keywords)\u001b[0m\n\u001b[0;32m    357\u001b[0m                 \u001b[0mscores\u001b[0m \u001b[1;33m=\u001b[0m \u001b[0mlist\u001b[0m\u001b[1;33m(\u001b[0m\u001b[0mobj\u001b[0m\u001b[1;33m.\u001b[0m\u001b[0mscores\u001b[0m\u001b[1;33m)\u001b[0m\u001b[1;33m\u001b[0m\u001b[1;33m\u001b[0m\u001b[0m\n\u001b[0;32m    358\u001b[0m \u001b[1;33m\u001b[0m\u001b[0m\n\u001b[1;32m--> 359\u001b[1;33m             \u001b[1;32mfor\u001b[0m \u001b[0ms\u001b[0m \u001b[1;32min\u001b[0m \u001b[0mscores\u001b[0m\u001b[1;33m:\u001b[0m\u001b[1;33m\u001b[0m\u001b[1;33m\u001b[0m\u001b[0m\n\u001b[0m\u001b[0;32m    360\u001b[0m                 fp = helperSubConverter.write(s, helperFormat,\n\u001b[0;32m    361\u001b[0m                                               subformats=helperSubformats, **keywords)\n",
      "\u001b[1;32mD:\\Installed\\Anaconda\\lib\\site-packages\\music21\\converter\\subConverters.py\u001b[0m in \u001b[0;36mwrite\u001b[1;34m(self, obj, fmt, fp, subformats, **keywords)\u001b[0m\n\u001b[0;32m    936\u001b[0m         if (subformats is not None\n\u001b[0;32m    937\u001b[0m                 \u001b[1;32mand\u001b[0m \u001b[1;33m(\u001b[0m\u001b[1;34m'png'\u001b[0m \u001b[1;32min\u001b[0m \u001b[0msubformats\u001b[0m \u001b[1;32mor\u001b[0m \u001b[1;34m'pdf'\u001b[0m \u001b[1;32min\u001b[0m \u001b[0msubformats\u001b[0m\u001b[1;33m)\u001b[0m\u001b[1;33m\u001b[0m\u001b[1;33m\u001b[0m\u001b[0m\n\u001b[1;32m--> 938\u001b[1;33m                 and not str(environLocal['musescoreDirectPNGPath']).startswith('/skip')):\n\u001b[0m\u001b[0;32m    939\u001b[0m             \u001b[0mfp\u001b[0m \u001b[1;33m=\u001b[0m \u001b[0mself\u001b[0m\u001b[1;33m.\u001b[0m\u001b[0mrunThroughMusescore\u001b[0m\u001b[1;33m(\u001b[0m\u001b[0mfp\u001b[0m\u001b[1;33m,\u001b[0m \u001b[0msubformats\u001b[0m\u001b[1;33m,\u001b[0m \u001b[1;33m**\u001b[0m\u001b[0mkeywords\u001b[0m\u001b[1;33m)\u001b[0m\u001b[1;33m\u001b[0m\u001b[1;33m\u001b[0m\u001b[0m\n\u001b[0;32m    940\u001b[0m \u001b[1;33m\u001b[0m\u001b[0m\n",
      "\u001b[1;32mD:\\Installed\\Anaconda\\lib\\site-packages\\music21\\converter\\subConverters.py\u001b[0m in \u001b[0;36mrunThroughMusescore\u001b[1;34m(self, fp, subformats, **keywords)\u001b[0m\n\u001b[0;32m    893\u001b[0m         \u001b[0msys\u001b[0m\u001b[1;33m.\u001b[0m\u001b[0mstderr\u001b[0m \u001b[1;33m=\u001b[0m \u001b[0mstoredStrErr\u001b[0m\u001b[1;33m\u001b[0m\u001b[1;33m\u001b[0m\u001b[0m\n\u001b[0;32m    894\u001b[0m \u001b[1;33m\u001b[0m\u001b[0m\n\u001b[1;32m--> 895\u001b[1;33m         \u001b[1;32mif\u001b[0m \u001b[0msubformatExtension\u001b[0m \u001b[1;33m==\u001b[0m \u001b[1;34m'png'\u001b[0m\u001b[1;33m:\u001b[0m\u001b[1;33m\u001b[0m\u001b[1;33m\u001b[0m\u001b[0m\n\u001b[0m\u001b[0;32m    896\u001b[0m             \u001b[1;32mreturn\u001b[0m \u001b[0mself\u001b[0m\u001b[1;33m.\u001b[0m\u001b[0mfindPNGfpFromXMLfp\u001b[0m\u001b[1;33m(\u001b[0m\u001b[0mfpOut\u001b[0m\u001b[1;33m)\u001b[0m\u001b[1;33m\u001b[0m\u001b[1;33m\u001b[0m\u001b[0m\n\u001b[0;32m    897\u001b[0m         \u001b[1;32melse\u001b[0m\u001b[1;33m:\u001b[0m\u001b[1;33m\u001b[0m\u001b[1;33m\u001b[0m\u001b[0m\n",
      "\u001b[1;32mD:\\Installed\\Anaconda\\lib\\site-packages\\music21\\converter\\subConverters.py\u001b[0m in \u001b[0;36mfindPNGfpFromXMLfp\u001b[1;34m(self, xmlFilePath)\u001b[0m\n\u001b[0;32m    804\u001b[0m         \u001b[1;32melif\u001b[0m \u001b[0mos\u001b[0m\u001b[1;33m.\u001b[0m\u001b[0mpath\u001b[0m\u001b[1;33m.\u001b[0m\u001b[0mexists\u001b[0m\u001b[1;33m(\u001b[0m\u001b[0mxmlFilePath\u001b[0m\u001b[1;33m[\u001b[0m\u001b[1;36m0\u001b[0m\u001b[1;33m:\u001b[0m\u001b[0mlen\u001b[0m\u001b[1;33m(\u001b[0m\u001b[0mxmlFilePath\u001b[0m\u001b[1;33m)\u001b[0m \u001b[1;33m-\u001b[0m \u001b[1;36m4\u001b[0m\u001b[1;33m]\u001b[0m \u001b[1;33m+\u001b[0m \u001b[1;34m'-001.png'\u001b[0m\u001b[1;33m)\u001b[0m\u001b[1;33m:\u001b[0m\u001b[1;33m\u001b[0m\u001b[1;33m\u001b[0m\u001b[0m\n\u001b[0;32m    805\u001b[0m             \u001b[0mpngfp\u001b[0m \u001b[1;33m=\u001b[0m \u001b[0mxmlFilePath\u001b[0m\u001b[1;33m[\u001b[0m\u001b[1;36m0\u001b[0m\u001b[1;33m:\u001b[0m\u001b[0mlen\u001b[0m\u001b[1;33m(\u001b[0m\u001b[0mxmlFilePath\u001b[0m\u001b[1;33m)\u001b[0m \u001b[1;33m-\u001b[0m \u001b[1;36m4\u001b[0m\u001b[1;33m]\u001b[0m \u001b[1;33m+\u001b[0m \u001b[1;34m'-001.png'\u001b[0m\u001b[1;33m\u001b[0m\u001b[1;33m\u001b[0m\u001b[0m\n\u001b[1;32m--> 806\u001b[1;33m         \u001b[1;32melse\u001b[0m\u001b[1;33m:\u001b[0m\u001b[1;33m\u001b[0m\u001b[1;33m\u001b[0m\u001b[0m\n\u001b[0m\u001b[0;32m    807\u001b[0m             raise SubConverterFileIOException(\n\u001b[0;32m    808\u001b[0m                 'png file of xml not found. Or file >999 pages?')\n",
      "\u001b[1;31mSubConverterFileIOException\u001b[0m: png file of xml not found. Or file >999 pages?"
     ]
    }
   ],
   "source": [
    "from music21 import *\n",
    "\n",
    "us = environment.UserSettings()\n",
    "us['musicxmlPath'] = r'D:\\Installed\\Musescore\\bin\\MuseScore3.exe'\n",
    "us['musescoreDirectPNGPath'] = r'D:\\Installed\\Musescore\\bin\\MuseScore3.exe'\n",
    "\n",
    "\n",
    "note_corecte = ['C3', 'D3', 'E3', 'F3', 'G3', 'F3', 'E3', 'D3', 'C3','C3', 'D3', 'E3', 'F3', 'G3', 'F3', 'E3', 'D3', 'C3',\n",
    "     'C3', 'D3', 'E3', 'F3', 'G3', 'F3', 'E3', 'D3', 'C3','C3', 'D3', 'E3', 'F3', 'G3', 'F3', 'E3', 'D3', 'C3',\n",
    "     'C3', 'D3', 'E3', 'F3', 'G3', 'F3', 'E3', 'D3', 'C3']\n",
    "\n",
    "note_prezise = ['D3', 'D3', 'E3', 'F3', 'G3', 'F3', 'E3', 'D3', 'C3','C3', 'D3', 'E3', 'F3', 'G3', 'F3', 'E3', 'D3', 'C3',\n",
    "     'C3', 'D3', 'E3', 'F3', 'G3', 'F3', 'E3', 'D3', 'C3','C3', 'D3', 'E3', 'F3', 'G3', 'F3', 'E3', 'D3', 'C3',\n",
    "     'C3', 'D3', 'E3', 'F3', 'A3', 'A3', 'E3', 'D3', 'D3']\n",
    "\n",
    "s = stream.Stream()\n",
    "for i, j in zip(note_prezise, note_corecte):\n",
    "        if i[0] != j[0]:\n",
    "            n = note.Note(i[0], quarterLength = 1)\n",
    "            n.style.color='red'\n",
    "            s.append([n])\n",
    "        else:\n",
    "            n = note.Note(i[0], quarterLength = 1)\n",
    "            s.append([n])\n",
    "    \n",
    "s.show()"
   ]
  },
  {
   "cell_type": "code",
   "execution_count": null,
   "id": "cd90feaa",
   "metadata": {},
   "outputs": [],
   "source": []
  }
 ],
 "metadata": {
  "kernelspec": {
   "display_name": "Python 3 (ipykernel)",
   "language": "python",
   "name": "python3"
  },
  "language_info": {
   "codemirror_mode": {
    "name": "ipython",
    "version": 3
   },
   "file_extension": ".py",
   "mimetype": "text/x-python",
   "name": "python",
   "nbconvert_exporter": "python",
   "pygments_lexer": "ipython3",
   "version": "3.9.7"
  }
 },
 "nbformat": 4,
 "nbformat_minor": 5
}
