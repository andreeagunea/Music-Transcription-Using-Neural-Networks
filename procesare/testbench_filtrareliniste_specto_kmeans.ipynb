{
 "cells": [
  {
   "cell_type": "code",
   "execution_count": 1,
   "id": "46265f90",
   "metadata": {},
   "outputs": [],
   "source": [
    "import librosa\n",
    "import soundfile as sf\n",
    "import os\n",
    "import numpy as np\n",
    "import librosa, librosa.display\n",
    "import matplotlib.pyplot as plt\n",
    "\n",
    "def filtrare_liniste(path_fisiere, pathuri_fisiere_out_prag, praguri):\n",
    "    for i in range(len(praguri)):\n",
    "        for j in range(len(path_fisiere)):\n",
    "            path_fisier = r'{}'.format(path_fisiere[j])\n",
    "            y, sr = librosa.load(path_fisier, sr=8000, mono=True)\n",
    "\n",
    "            clip = librosa.effects.trim(y, top_db=praguri[i])       #elimina semnalul cu o putere sub 10db, fiind considerat liniste\n",
    "\n",
    "            path_fisier_out_prag = r'{}'.format(pathuri_fisiere_out_prag[i][j])\n",
    "            \n",
    "            sf.write(path_fisier_out_prag, clip[0], sr)          #se salveaza noul semnal audio\n",
    "            \n",
    "\n",
    "def spectograma(path_fisier, path_fisier_out):\n",
    "    y, sr = librosa.load(path_fisier)\n",
    "\n",
    "    plt.interactive(False)\n",
    "    fig = plt.figure(figsize=[0.72, 0.72])\n",
    "    ax = fig.add_subplot(111)\n",
    "    ax.axes.get_xaxis().set_visible(False)\n",
    "    ax.axes.get_yaxis().set_visible(False)\n",
    "    ax.set_frame_on(False)\n",
    "\n",
    "    S = librosa.feature.melspectrogram(y=y, sr=sr)\n",
    "    librosa.display.specshow(librosa.power_to_db(S, ref=np.max))\n",
    "\n",
    "    fig.savefig(path_fisier_out, dpi=400, bbox_inches='tight', pad_inches=0)\n",
    "\n",
    "    plt.close(fig)\n",
    "\n",
    "def procesare(path_folder_note, path_rezultat):\n",
    "    fisiere = os.listdir(path_folder_note)\n",
    "    path_fisiere = [os.path.join(path_folder_note, i) for i in fisiere]\n",
    "\n",
    "    fisiere_out = [os.path.splitext(i)[0] + '.jpg' for i in fisiere]\n",
    "    path_fisiere_out = [os.path.join(path_rezultat, i) for i in fisiere_out]\n",
    "\n",
    "    for i, j in zip(path_fisiere, path_fisiere_out):\n",
    "        spectograma(i, j)\n",
    "\n",
    "    return 0"
   ]
  },
  {
   "cell_type": "code",
   "execution_count": 2,
   "id": "eb7fff31",
   "metadata": {},
   "outputs": [],
   "source": [
    "folder = 'note_trainsitest'\n",
    "path_proiect = os.getcwd()\n",
    "path_folder = os.path.join(path_proiect, folder)\n",
    "fisiere = os.listdir(path_folder)\n",
    "path_fisiere = [os.path.join(path_folder, i) for i in fisiere]\n",
    "fisiere_no_ext = [os.path.splitext(i)[0] for i in fisiere]\n",
    "\n",
    "\n",
    "praguri = [30, 25, 20]\n",
    "foldere_out = ['note_trainsitest_filtrate' + '_prag' + str(i) + 'db' for i in praguri]\n",
    "pathuri_foldere_out = [os.path.join(path_proiect, i) for i in foldere_out]\n",
    "\n",
    "fisiere_out = [i + '_f' for i in fisiere_no_ext]  # fisierele filtrate au '_f'\n",
    "fisiere_out_prag = []\n",
    "for i in praguri:\n",
    "    lista = []\n",
    "    for j in fisiere_out:\n",
    "        lista.append(j + '_prag' + str(i) + 'db.wav')\n",
    "    fisiere_out_prag.append(lista)\n",
    "    \n",
    "pathuri_fisiere_out_prag = []\n",
    "nr = 0\n",
    "for i in fisiere_out_prag:\n",
    "    lista = []\n",
    "    for j in i:\n",
    "        lista.append(os.path.join(pathuri_foldere_out[nr], j))\n",
    "    pathuri_fisiere_out_prag.append(lista)\n",
    "    nr += 1"
   ]
  },
  {
   "cell_type": "code",
   "execution_count": 3,
   "id": "2d7f5d42",
   "metadata": {},
   "outputs": [
    {
     "ename": "RuntimeError",
     "evalue": "Error opening 'D:\\\\GitHub\\\\Notes-recognition\\\\procesare\\\\note_trainsitest_filtrate_prag30db\\\\A3#_f_prag30db.wav': System error.",
     "output_type": "error",
     "traceback": [
      "\u001b[1;31m---------------------------------------------------------------------------\u001b[0m",
      "\u001b[1;31mRuntimeError\u001b[0m                              Traceback (most recent call last)",
      "\u001b[1;32m~\\AppData\\Local\\Temp/ipykernel_11556/3354335762.py\u001b[0m in \u001b[0;36m<module>\u001b[1;34m\u001b[0m\n\u001b[0;32m      9\u001b[0m \u001b[1;31m#     os.mkdir(i)   #spectograme\u001b[0m\u001b[1;33m\u001b[0m\u001b[1;33m\u001b[0m\u001b[0m\n\u001b[0;32m     10\u001b[0m \u001b[1;33m\u001b[0m\u001b[0m\n\u001b[1;32m---> 11\u001b[1;33m \u001b[0mfiltrare_liniste\u001b[0m\u001b[1;33m(\u001b[0m\u001b[0mpath_fisiere\u001b[0m\u001b[1;33m,\u001b[0m \u001b[0mpathuri_fisiere_out_prag\u001b[0m\u001b[1;33m,\u001b[0m \u001b[0mpraguri\u001b[0m\u001b[1;33m)\u001b[0m            \u001b[1;31m#generare fisiere .wav filtrate\u001b[0m\u001b[1;33m\u001b[0m\u001b[1;33m\u001b[0m\u001b[0m\n\u001b[0m\u001b[0;32m     12\u001b[0m \u001b[1;33m\u001b[0m\u001b[0m\n\u001b[0;32m     13\u001b[0m \u001b[1;32mfor\u001b[0m \u001b[0mi\u001b[0m \u001b[1;32min\u001b[0m \u001b[0mrange\u001b[0m\u001b[1;33m(\u001b[0m\u001b[0mlen\u001b[0m\u001b[1;33m(\u001b[0m\u001b[0mpathuri_rezultat\u001b[0m\u001b[1;33m)\u001b[0m\u001b[1;33m)\u001b[0m\u001b[1;33m:\u001b[0m\u001b[1;33m\u001b[0m\u001b[1;33m\u001b[0m\u001b[0m\n",
      "\u001b[1;32m~\\AppData\\Local\\Temp/ipykernel_11556/2340045753.py\u001b[0m in \u001b[0;36mfiltrare_liniste\u001b[1;34m(path_fisiere, pathuri_fisiere_out_prag, praguri)\u001b[0m\n\u001b[0;32m     16\u001b[0m             \u001b[0mpath_fisier_out_prag\u001b[0m \u001b[1;33m=\u001b[0m \u001b[1;34mr'{}'\u001b[0m\u001b[1;33m.\u001b[0m\u001b[0mformat\u001b[0m\u001b[1;33m(\u001b[0m\u001b[0mpathuri_fisiere_out_prag\u001b[0m\u001b[1;33m[\u001b[0m\u001b[0mi\u001b[0m\u001b[1;33m]\u001b[0m\u001b[1;33m[\u001b[0m\u001b[0mj\u001b[0m\u001b[1;33m]\u001b[0m\u001b[1;33m)\u001b[0m\u001b[1;33m\u001b[0m\u001b[1;33m\u001b[0m\u001b[0m\n\u001b[0;32m     17\u001b[0m \u001b[1;33m\u001b[0m\u001b[0m\n\u001b[1;32m---> 18\u001b[1;33m             \u001b[0msf\u001b[0m\u001b[1;33m.\u001b[0m\u001b[0mwrite\u001b[0m\u001b[1;33m(\u001b[0m\u001b[0mpath_fisier_out_prag\u001b[0m\u001b[1;33m,\u001b[0m \u001b[0mclip\u001b[0m\u001b[1;33m[\u001b[0m\u001b[1;36m0\u001b[0m\u001b[1;33m]\u001b[0m\u001b[1;33m,\u001b[0m \u001b[0msr\u001b[0m\u001b[1;33m)\u001b[0m          \u001b[1;31m#se salveaza noul semnal audio\u001b[0m\u001b[1;33m\u001b[0m\u001b[1;33m\u001b[0m\u001b[0m\n\u001b[0m\u001b[0;32m     19\u001b[0m \u001b[1;33m\u001b[0m\u001b[0m\n\u001b[0;32m     20\u001b[0m \u001b[1;33m\u001b[0m\u001b[0m\n",
      "\u001b[1;32mD:\\Installed\\Anaconda\\lib\\site-packages\\soundfile.py\u001b[0m in \u001b[0;36mwrite\u001b[1;34m(file, data, samplerate, subtype, endian, format, closefd)\u001b[0m\n\u001b[0;32m    428\u001b[0m     \u001b[1;32melse\u001b[0m\u001b[1;33m:\u001b[0m\u001b[1;33m\u001b[0m\u001b[1;33m\u001b[0m\u001b[0m\n\u001b[0;32m    429\u001b[0m         \u001b[0mchannels\u001b[0m \u001b[1;33m=\u001b[0m \u001b[0mdata\u001b[0m\u001b[1;33m.\u001b[0m\u001b[0mshape\u001b[0m\u001b[1;33m[\u001b[0m\u001b[1;36m1\u001b[0m\u001b[1;33m]\u001b[0m\u001b[1;33m\u001b[0m\u001b[1;33m\u001b[0m\u001b[0m\n\u001b[1;32m--> 430\u001b[1;33m     with SoundFile(file, 'w', samplerate, channels,\n\u001b[0m\u001b[0;32m    431\u001b[0m                    subtype, endian, format, closefd) as f:\n\u001b[0;32m    432\u001b[0m         \u001b[0mf\u001b[0m\u001b[1;33m.\u001b[0m\u001b[0mwrite\u001b[0m\u001b[1;33m(\u001b[0m\u001b[0mdata\u001b[0m\u001b[1;33m)\u001b[0m\u001b[1;33m\u001b[0m\u001b[1;33m\u001b[0m\u001b[0m\n",
      "\u001b[1;32mD:\\Installed\\Anaconda\\lib\\site-packages\\soundfile.py\u001b[0m in \u001b[0;36m__init__\u001b[1;34m(self, file, mode, samplerate, channels, subtype, endian, format, closefd)\u001b[0m\n\u001b[0;32m    738\u001b[0m         self._info = _create_info_struct(file, mode, samplerate, channels,\n\u001b[0;32m    739\u001b[0m                                          format, subtype, endian)\n\u001b[1;32m--> 740\u001b[1;33m         \u001b[0mself\u001b[0m\u001b[1;33m.\u001b[0m\u001b[0m_file\u001b[0m \u001b[1;33m=\u001b[0m \u001b[0mself\u001b[0m\u001b[1;33m.\u001b[0m\u001b[0m_open\u001b[0m\u001b[1;33m(\u001b[0m\u001b[0mfile\u001b[0m\u001b[1;33m,\u001b[0m \u001b[0mmode_int\u001b[0m\u001b[1;33m,\u001b[0m \u001b[0mclosefd\u001b[0m\u001b[1;33m)\u001b[0m\u001b[1;33m\u001b[0m\u001b[1;33m\u001b[0m\u001b[0m\n\u001b[0m\u001b[0;32m    741\u001b[0m         \u001b[1;32mif\u001b[0m \u001b[0mset\u001b[0m\u001b[1;33m(\u001b[0m\u001b[0mmode\u001b[0m\u001b[1;33m)\u001b[0m\u001b[1;33m.\u001b[0m\u001b[0missuperset\u001b[0m\u001b[1;33m(\u001b[0m\u001b[1;34m'r+'\u001b[0m\u001b[1;33m)\u001b[0m \u001b[1;32mand\u001b[0m \u001b[0mself\u001b[0m\u001b[1;33m.\u001b[0m\u001b[0mseekable\u001b[0m\u001b[1;33m(\u001b[0m\u001b[1;33m)\u001b[0m\u001b[1;33m:\u001b[0m\u001b[1;33m\u001b[0m\u001b[1;33m\u001b[0m\u001b[0m\n\u001b[0;32m    742\u001b[0m             \u001b[1;31m# Move write position to 0 (like in Python file objects)\u001b[0m\u001b[1;33m\u001b[0m\u001b[1;33m\u001b[0m\u001b[0m\n",
      "\u001b[1;32mD:\\Installed\\Anaconda\\lib\\site-packages\\soundfile.py\u001b[0m in \u001b[0;36m_open\u001b[1;34m(self, file, mode_int, closefd)\u001b[0m\n\u001b[0;32m   1262\u001b[0m         \u001b[1;32melse\u001b[0m\u001b[1;33m:\u001b[0m\u001b[1;33m\u001b[0m\u001b[1;33m\u001b[0m\u001b[0m\n\u001b[0;32m   1263\u001b[0m             \u001b[1;32mraise\u001b[0m \u001b[0mTypeError\u001b[0m\u001b[1;33m(\u001b[0m\u001b[1;34m\"Invalid file: {0!r}\"\u001b[0m\u001b[1;33m.\u001b[0m\u001b[0mformat\u001b[0m\u001b[1;33m(\u001b[0m\u001b[0mself\u001b[0m\u001b[1;33m.\u001b[0m\u001b[0mname\u001b[0m\u001b[1;33m)\u001b[0m\u001b[1;33m)\u001b[0m\u001b[1;33m\u001b[0m\u001b[1;33m\u001b[0m\u001b[0m\n\u001b[1;32m-> 1264\u001b[1;33m         _error_check(_snd.sf_error(file_ptr),\n\u001b[0m\u001b[0;32m   1265\u001b[0m                      \"Error opening {0!r}: \".format(self.name))\n\u001b[0;32m   1266\u001b[0m         \u001b[1;32mif\u001b[0m \u001b[0mmode_int\u001b[0m \u001b[1;33m==\u001b[0m \u001b[0m_snd\u001b[0m\u001b[1;33m.\u001b[0m\u001b[0mSFM_WRITE\u001b[0m\u001b[1;33m:\u001b[0m\u001b[1;33m\u001b[0m\u001b[1;33m\u001b[0m\u001b[0m\n",
      "\u001b[1;32mD:\\Installed\\Anaconda\\lib\\site-packages\\soundfile.py\u001b[0m in \u001b[0;36m_error_check\u001b[1;34m(err, prefix)\u001b[0m\n\u001b[0;32m   1453\u001b[0m     \u001b[1;32mif\u001b[0m \u001b[0merr\u001b[0m \u001b[1;33m!=\u001b[0m \u001b[1;36m0\u001b[0m\u001b[1;33m:\u001b[0m\u001b[1;33m\u001b[0m\u001b[1;33m\u001b[0m\u001b[0m\n\u001b[0;32m   1454\u001b[0m         \u001b[0merr_str\u001b[0m \u001b[1;33m=\u001b[0m \u001b[0m_snd\u001b[0m\u001b[1;33m.\u001b[0m\u001b[0msf_error_number\u001b[0m\u001b[1;33m(\u001b[0m\u001b[0merr\u001b[0m\u001b[1;33m)\u001b[0m\u001b[1;33m\u001b[0m\u001b[1;33m\u001b[0m\u001b[0m\n\u001b[1;32m-> 1455\u001b[1;33m         \u001b[1;32mraise\u001b[0m \u001b[0mRuntimeError\u001b[0m\u001b[1;33m(\u001b[0m\u001b[0mprefix\u001b[0m \u001b[1;33m+\u001b[0m \u001b[0m_ffi\u001b[0m\u001b[1;33m.\u001b[0m\u001b[0mstring\u001b[0m\u001b[1;33m(\u001b[0m\u001b[0merr_str\u001b[0m\u001b[1;33m)\u001b[0m\u001b[1;33m.\u001b[0m\u001b[0mdecode\u001b[0m\u001b[1;33m(\u001b[0m\u001b[1;34m'utf-8'\u001b[0m\u001b[1;33m,\u001b[0m \u001b[1;34m'replace'\u001b[0m\u001b[1;33m)\u001b[0m\u001b[1;33m)\u001b[0m\u001b[1;33m\u001b[0m\u001b[1;33m\u001b[0m\u001b[0m\n\u001b[0m\u001b[0;32m   1456\u001b[0m \u001b[1;33m\u001b[0m\u001b[0m\n\u001b[0;32m   1457\u001b[0m \u001b[1;33m\u001b[0m\u001b[0m\n",
      "\u001b[1;31mRuntimeError\u001b[0m: Error opening 'D:\\\\GitHub\\\\Notes-recognition\\\\procesare\\\\note_trainsitest_filtrate_prag30db\\\\A3#_f_prag30db.wav': System error."
     ]
    }
   ],
   "source": [
    "pathuri_rezultat = []                                                       \n",
    "for i in foldere_out:\n",
    "    pathuri_rezultat.append(os.path.join(os.getcwd(), 'spectograme') + i[i.find('_'):])\n",
    "\n",
    "# for i in pathuri_foldere_out:\n",
    "#     os.mkdir(i)   #fisiere wav                                                        \n",
    "    \n",
    "# for i in pathuri_rezultat:\n",
    "#     os.mkdir(i)   #spectograme                                                         \n",
    "\n",
    "filtrare_liniste(path_fisiere, pathuri_fisiere_out_prag, praguri)            #generare fisiere .wav filtrate\n",
    "\n",
    "for i in range(len(pathuri_rezultat)):\n",
    "    procesare(pathuri_foldere_out[i], pathuri_rezultat[i]) #spectograme pe fisiere .wav filtrate\n"
   ]
  },
  {
   "cell_type": "code",
   "execution_count": 4,
   "id": "0f2e1bdb",
   "metadata": {},
   "outputs": [
    {
     "data": {
      "text/plain": [
       "'D:\\\\GitHub\\\\Notes-recognition\\\\procesare\\\\note_trainsitest\\\\A3#_10.wav'"
      ]
     },
     "execution_count": 4,
     "metadata": {},
     "output_type": "execute_result"
    }
   ],
   "source": [
    "pathuri_fisiere_out_prag[0][1]\n",
    "path_fisiere[1]"
   ]
  },
  {
   "cell_type": "code",
   "execution_count": 127,
   "id": "728c168c",
   "metadata": {},
   "outputs": [
    {
     "data": {
      "text/plain": [
       "(33159,)"
      ]
     },
     "execution_count": 127,
     "metadata": {},
     "output_type": "execute_result"
    }
   ],
   "source": [
    "y, sr = librosa.load(path_fisiere[10], sr=8000, mono=True)\n",
    "y.shape"
   ]
  },
  {
   "cell_type": "code",
   "execution_count": 121,
   "id": "21767c59",
   "metadata": {},
   "outputs": [
    {
     "data": {
      "text/plain": [
       "(6656,)"
      ]
     },
     "execution_count": 121,
     "metadata": {},
     "output_type": "execute_result"
    }
   ],
   "source": [
    "clip = librosa.effects.trim(y, top_db=10)\n",
    "clip[0].shape"
   ]
  },
  {
   "cell_type": "code",
   "execution_count": 122,
   "id": "8bdf7323",
   "metadata": {},
   "outputs": [
    {
     "data": {
      "text/plain": [
       "(8704,)"
      ]
     },
     "execution_count": 122,
     "metadata": {},
     "output_type": "execute_result"
    }
   ],
   "source": [
    "clip = librosa.effects.trim(y, top_db=15)\n",
    "clip[0].shape"
   ]
  },
  {
   "cell_type": "code",
   "execution_count": 123,
   "id": "8cc671cb",
   "metadata": {},
   "outputs": [
    {
     "data": {
      "text/plain": [
       "(3072,)"
      ]
     },
     "execution_count": 123,
     "metadata": {},
     "output_type": "execute_result"
    }
   ],
   "source": [
    "clip = librosa.effects.trim(y, top_db=5)\n",
    "clip[0].shape"
   ]
  },
  {
   "cell_type": "code",
   "execution_count": 124,
   "id": "a7765b5f",
   "metadata": {},
   "outputs": [
    {
     "data": {
      "text/plain": [
       "(9216,)"
      ]
     },
     "execution_count": 124,
     "metadata": {},
     "output_type": "execute_result"
    }
   ],
   "source": [
    "clip = librosa.effects.trim(y, top_db=17)\n",
    "clip[0].shape"
   ]
  },
  {
   "cell_type": "code",
   "execution_count": 131,
   "id": "12e706c4",
   "metadata": {},
   "outputs": [
    {
     "data": {
      "text/plain": [
       "(11776,)"
      ]
     },
     "execution_count": 131,
     "metadata": {},
     "output_type": "execute_result"
    }
   ],
   "source": [
    "clip = librosa.effects.trim(y, top_db=15)\n",
    "clip[0].shape"
   ]
  },
  {
   "cell_type": "code",
   "execution_count": 3,
   "id": "0a7925ea",
   "metadata": {},
   "outputs": [],
   "source": [
    "folder = 'note_test'\n",
    "path_proiect = os.getcwd()\n",
    "path_folder = os.path.join(path_proiect, folder)\n",
    "fisiere = os.listdir(path_folder)\n",
    "path_fisiere = [os.path.join(path_folder, i) for i in fisiere]\n",
    "fisiere_no_ext = [os.path.splitext(i)[0] for i in fisiere]\n",
    "\n",
    "\n",
    "praguri = [11]\n",
    "foldere_out = [folder + '_filtrate' + '_prag' + str(i) + 'db' for i in praguri]\n",
    "pathuri_foldere_out = [os.path.join(path_proiect, i) for i in foldere_out]\n",
    "\n",
    "fisiere_out = [i + '_f' for i in fisiere_no_ext]  # fisierele filtrate au '_f'\n",
    "fisiere_out_prag = []\n",
    "for i in praguri:\n",
    "    lista = []\n",
    "    for j in fisiere_out:\n",
    "        lista.append(j + '_prag' + str(i) + 'db.wav')\n",
    "    fisiere_out_prag.append(lista)\n",
    "    \n",
    "pathuri_fisiere_out_prag = []\n",
    "nr = 0\n",
    "for i in fisiere_out_prag:\n",
    "    lista = []\n",
    "    for j in i:\n",
    "        lista.append(os.path.join(pathuri_foldere_out[nr], j))\n",
    "    pathuri_fisiere_out_prag.append(lista)\n",
    "    nr += 1\n",
    "\n",
    "\n",
    "\n",
    "pathuri_rezultat = []                                                       \n",
    "for i in foldere_out:\n",
    "    pathuri_rezultat.append(os.path.join(os.getcwd(), 'spectograme') + i[i.find('_'):])\n",
    "\n",
    "for i in pathuri_foldere_out:\n",
    "    os.mkdir(i)   #fisiere wav                                                        \n",
    "    \n",
    "for i in pathuri_rezultat:\n",
    "    os.mkdir(i)   #spectograme                                                         \n",
    "\n",
    "filtrare_liniste(path_fisiere, pathuri_fisiere_out_prag, praguri)            #generare fisiere .wav filtrate\n",
    "\n",
    "for i in range(len(pathuri_rezultat)):\n",
    "    procesare(pathuri_foldere_out[i], pathuri_rezultat[i]) #spectograme pe fisiere .wav filtrate\n",
    "    "
   ]
  },
  {
   "cell_type": "code",
   "execution_count": null,
   "id": "6c822e76",
   "metadata": {},
   "outputs": [],
   "source": []
  }
 ],
 "metadata": {
  "kernelspec": {
   "display_name": "Python 3 (ipykernel)",
   "language": "python",
   "name": "python3"
  },
  "language_info": {
   "codemirror_mode": {
    "name": "ipython",
    "version": 3
   },
   "file_extension": ".py",
   "mimetype": "text/x-python",
   "name": "python",
   "nbconvert_exporter": "python",
   "pygments_lexer": "ipython3",
   "version": "3.9.7"
  }
 },
 "nbformat": 4,
 "nbformat_minor": 5
}
