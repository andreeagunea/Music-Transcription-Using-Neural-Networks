{
 "cells": [
  {
   "cell_type": "code",
   "execution_count": 1,
   "id": "65d7ba5d",
   "metadata": {},
   "outputs": [
    {
     "name": "stdout",
     "output_type": "stream",
     "text": [
      "Tip procesare dorit: autocorelatie(1), spectograma(2), cepstrum(3) sau skip procesare(0). 0\n",
      "\n",
      "Tip machine learning algorithm dorit: k-nn(1), k-means(2) sau skip ML(0). 2\n",
      "\n",
      "Pentru clasificare, ati ales: k-means.\n",
      "\n",
      "Nota identificata gresit in Excel pe randul 29, nota adevarata A5#, nota falsa A#4.\n",
      "Nota identificata gresit in Excel pe randul 31, nota adevarata A5#, nota falsa A#4.\n",
      "Nota identificata gresit in Excel pe randul 32, nota adevarata A5#, nota falsa A#4.\n",
      "Nota identificata gresit in Excel pe randul 33, nota adevarata A5#, nota falsa D#4.\n",
      "Nota identificata gresit in Excel pe randul 76, nota adevarata C4#, nota falsa D#4.\n",
      "Nota identificata gresit in Excel pe randul 133, nota adevarata D5#, nota falsa D#4.\n",
      "Nota identificata gresit in Excel pe randul 139, nota adevarata D5, nota falsa D4.\n",
      "Nota identificata gresit in Excel pe randul 147, nota adevarata E4, nota falsa E3.\n",
      "Nota identificata gresit in Excel pe randul 149, nota adevarata E4, nota falsa E3.\n",
      "Nota identificata gresit in Excel pe randul 176, nota adevarata F4#, nota falsa F#3.\n",
      "Nota identificata gresit in Excel pe randul 184, nota adevarata F4, nota falsa E4.\n",
      "Nota identificata gresit in Excel pe randul 196, nota adevarata F5, nota falsa F4.\n",
      "Nota identificata gresit in Excel pe randul 224, nota adevarata G5#, nota falsa G#4.\n",
      "Nota identificata gresit in Excel pe randul 225, nota adevarata G5#, nota falsa G#4.\n",
      "Nota identificata gresit in Excel pe randul 226, nota adevarata G5#, nota falsa G#4.\n",
      "Nota identificata gresit in Excel pe randul 227, nota adevarata G5#, nota falsa G#4.\n",
      "Nota identificata gresit in Excel pe randul 228, nota adevarata G5#, nota falsa G#4.\n",
      "\n",
      "Numar note identificate gresit: 17.\n",
      "\n",
      "Puteti sterge liniile gresite. Nu vor fi sterse din Excel, ci doar din variabile\n",
      "\n",
      "Doriti sa stergeti notele gresite in antrenarea retelei? da(1), nu(0). 0\n",
      "\n",
      "Antrenati reteaua cu note gresite.\n",
      "0      29\n",
      "1      29\n",
      "2      29\n",
      "3      29\n",
      "4      29\n",
      "       ..\n",
      "228     1\n",
      "229     1\n",
      "230     1\n",
      "231     1\n",
      "232     1\n",
      "Name: Clusters, Length: 233, dtype: int32\n"
     ]
    },
    {
     "ename": "KeyError",
     "evalue": "'note_freq'",
     "output_type": "error",
     "traceback": [
      "\u001b[1;31m---------------------------------------------------------------------------\u001b[0m",
      "\u001b[1;31mKeyError\u001b[0m                                  Traceback (most recent call last)",
      "\u001b[1;32mD:\\Installed\\Anaconda\\lib\\site-packages\\pandas\\core\\indexes\\base.py\u001b[0m in \u001b[0;36mget_loc\u001b[1;34m(self, key, method, tolerance)\u001b[0m\n\u001b[0;32m   3360\u001b[0m             \u001b[1;32mtry\u001b[0m\u001b[1;33m:\u001b[0m\u001b[1;33m\u001b[0m\u001b[1;33m\u001b[0m\u001b[0m\n\u001b[1;32m-> 3361\u001b[1;33m                 \u001b[1;32mreturn\u001b[0m \u001b[0mself\u001b[0m\u001b[1;33m.\u001b[0m\u001b[0m_engine\u001b[0m\u001b[1;33m.\u001b[0m\u001b[0mget_loc\u001b[0m\u001b[1;33m(\u001b[0m\u001b[0mcasted_key\u001b[0m\u001b[1;33m)\u001b[0m\u001b[1;33m\u001b[0m\u001b[1;33m\u001b[0m\u001b[0m\n\u001b[0m\u001b[0;32m   3362\u001b[0m             \u001b[1;32mexcept\u001b[0m \u001b[0mKeyError\u001b[0m \u001b[1;32mas\u001b[0m \u001b[0merr\u001b[0m\u001b[1;33m:\u001b[0m\u001b[1;33m\u001b[0m\u001b[1;33m\u001b[0m\u001b[0m\n",
      "\u001b[1;32mD:\\Installed\\Anaconda\\lib\\site-packages\\pandas\\_libs\\index.pyx\u001b[0m in \u001b[0;36mpandas._libs.index.IndexEngine.get_loc\u001b[1;34m()\u001b[0m\n",
      "\u001b[1;32mD:\\Installed\\Anaconda\\lib\\site-packages\\pandas\\_libs\\index.pyx\u001b[0m in \u001b[0;36mpandas._libs.index.IndexEngine.get_loc\u001b[1;34m()\u001b[0m\n",
      "\u001b[1;32mpandas\\_libs\\hashtable_class_helper.pxi\u001b[0m in \u001b[0;36mpandas._libs.hashtable.PyObjectHashTable.get_item\u001b[1;34m()\u001b[0m\n",
      "\u001b[1;32mpandas\\_libs\\hashtable_class_helper.pxi\u001b[0m in \u001b[0;36mpandas._libs.hashtable.PyObjectHashTable.get_item\u001b[1;34m()\u001b[0m\n",
      "\u001b[1;31mKeyError\u001b[0m: 'note_freq'",
      "\nThe above exception was the direct cause of the following exception:\n",
      "\u001b[1;31mKeyError\u001b[0m                                  Traceback (most recent call last)",
      "\u001b[1;32m~\\AppData\\Local\\Temp/ipykernel_12296/3847578402.py\u001b[0m in \u001b[0;36m<module>\u001b[1;34m\u001b[0m\n\u001b[0;32m     55\u001b[0m \u001b[1;33m\u001b[0m\u001b[0m\n\u001b[0;32m     56\u001b[0m \u001b[1;32mif\u001b[0m \u001b[0m__name__\u001b[0m \u001b[1;33m==\u001b[0m \u001b[1;34m'__main__'\u001b[0m\u001b[1;33m:\u001b[0m\u001b[1;33m\u001b[0m\u001b[1;33m\u001b[0m\u001b[0m\n\u001b[1;32m---> 57\u001b[1;33m     \u001b[0mnotes_translate\u001b[0m\u001b[1;33m(\u001b[0m\u001b[1;33m)\u001b[0m\u001b[1;33m\u001b[0m\u001b[1;33m\u001b[0m\u001b[0m\n\u001b[0m\u001b[0;32m     58\u001b[0m \u001b[1;33m\u001b[0m\u001b[0m\n\u001b[0;32m     59\u001b[0m \u001b[1;31m#bibliografie:\u001b[0m\u001b[1;33m\u001b[0m\u001b[1;33m\u001b[0m\u001b[0m\n",
      "\u001b[1;32m~\\AppData\\Local\\Temp/ipykernel_12296/3847578402.py\u001b[0m in \u001b[0;36mnotes_translate\u001b[1;34m()\u001b[0m\n\u001b[0;32m     51\u001b[0m     \u001b[1;32melif\u001b[0m \u001b[0mans_ml\u001b[0m \u001b[1;33m==\u001b[0m \u001b[1;36m2\u001b[0m\u001b[1;33m:\u001b[0m\u001b[1;33m\u001b[0m\u001b[1;33m\u001b[0m\u001b[0m\n\u001b[0;32m     52\u001b[0m         \u001b[0mprint\u001b[0m\u001b[1;33m(\u001b[0m\u001b[1;34m\"\\nPentru clasificare, ati ales: k-means.\\n\"\u001b[0m\u001b[1;33m)\u001b[0m\u001b[1;33m\u001b[0m\u001b[1;33m\u001b[0m\u001b[0m\n\u001b[1;32m---> 53\u001b[1;33m         \u001b[0mkmeans\u001b[0m\u001b[1;33m.\u001b[0m\u001b[0mclasificare\u001b[0m\u001b[1;33m(\u001b[0m\u001b[1;33m)\u001b[0m\u001b[1;33m\u001b[0m\u001b[1;33m\u001b[0m\u001b[0m\n\u001b[0m\u001b[0;32m     54\u001b[0m \u001b[1;33m\u001b[0m\u001b[0m\n\u001b[0;32m     55\u001b[0m \u001b[1;33m\u001b[0m\u001b[0m\n",
      "\u001b[1;32mD:\\GitHub\\Notes-Recognition-Using-Neural-Networks\\procesare\\kmeans.py\u001b[0m in \u001b[0;36mclasificare\u001b[1;34m()\u001b[0m\n\u001b[0;32m    103\u001b[0m     \u001b[1;31m# Plot cu clusterele pentru frecvente(indici).\u001b[0m\u001b[1;33m\u001b[0m\u001b[1;33m\u001b[0m\u001b[0m\n\u001b[0;32m    104\u001b[0m     \u001b[0mplt\u001b[0m\u001b[1;33m.\u001b[0m\u001b[0mfigure\u001b[0m\u001b[1;33m(\u001b[0m\u001b[1;36m2\u001b[0m\u001b[1;33m)\u001b[0m\u001b[1;33m\u001b[0m\u001b[1;33m\u001b[0m\u001b[0m\n\u001b[1;32m--> 105\u001b[1;33m     plt.scatter(indici, data_with_clusters['note_freq'],\n\u001b[0m\u001b[0;32m    106\u001b[0m                 c=data_with_clusters['Clusters'], cmap='rainbow')\n\u001b[0;32m    107\u001b[0m     \u001b[0mplt\u001b[0m\u001b[1;33m.\u001b[0m\u001b[0mshow\u001b[0m\u001b[1;33m(\u001b[0m\u001b[1;33m)\u001b[0m\u001b[1;33m\u001b[0m\u001b[1;33m\u001b[0m\u001b[0m\n",
      "\u001b[1;32mD:\\Installed\\Anaconda\\lib\\site-packages\\pandas\\core\\frame.py\u001b[0m in \u001b[0;36m__getitem__\u001b[1;34m(self, key)\u001b[0m\n\u001b[0;32m   3456\u001b[0m             \u001b[1;32mif\u001b[0m \u001b[0mself\u001b[0m\u001b[1;33m.\u001b[0m\u001b[0mcolumns\u001b[0m\u001b[1;33m.\u001b[0m\u001b[0mnlevels\u001b[0m \u001b[1;33m>\u001b[0m \u001b[1;36m1\u001b[0m\u001b[1;33m:\u001b[0m\u001b[1;33m\u001b[0m\u001b[1;33m\u001b[0m\u001b[0m\n\u001b[0;32m   3457\u001b[0m                 \u001b[1;32mreturn\u001b[0m \u001b[0mself\u001b[0m\u001b[1;33m.\u001b[0m\u001b[0m_getitem_multilevel\u001b[0m\u001b[1;33m(\u001b[0m\u001b[0mkey\u001b[0m\u001b[1;33m)\u001b[0m\u001b[1;33m\u001b[0m\u001b[1;33m\u001b[0m\u001b[0m\n\u001b[1;32m-> 3458\u001b[1;33m             \u001b[0mindexer\u001b[0m \u001b[1;33m=\u001b[0m \u001b[0mself\u001b[0m\u001b[1;33m.\u001b[0m\u001b[0mcolumns\u001b[0m\u001b[1;33m.\u001b[0m\u001b[0mget_loc\u001b[0m\u001b[1;33m(\u001b[0m\u001b[0mkey\u001b[0m\u001b[1;33m)\u001b[0m\u001b[1;33m\u001b[0m\u001b[1;33m\u001b[0m\u001b[0m\n\u001b[0m\u001b[0;32m   3459\u001b[0m             \u001b[1;32mif\u001b[0m \u001b[0mis_integer\u001b[0m\u001b[1;33m(\u001b[0m\u001b[0mindexer\u001b[0m\u001b[1;33m)\u001b[0m\u001b[1;33m:\u001b[0m\u001b[1;33m\u001b[0m\u001b[1;33m\u001b[0m\u001b[0m\n\u001b[0;32m   3460\u001b[0m                 \u001b[0mindexer\u001b[0m \u001b[1;33m=\u001b[0m \u001b[1;33m[\u001b[0m\u001b[0mindexer\u001b[0m\u001b[1;33m]\u001b[0m\u001b[1;33m\u001b[0m\u001b[1;33m\u001b[0m\u001b[0m\n",
      "\u001b[1;32mD:\\Installed\\Anaconda\\lib\\site-packages\\pandas\\core\\indexes\\base.py\u001b[0m in \u001b[0;36mget_loc\u001b[1;34m(self, key, method, tolerance)\u001b[0m\n\u001b[0;32m   3361\u001b[0m                 \u001b[1;32mreturn\u001b[0m \u001b[0mself\u001b[0m\u001b[1;33m.\u001b[0m\u001b[0m_engine\u001b[0m\u001b[1;33m.\u001b[0m\u001b[0mget_loc\u001b[0m\u001b[1;33m(\u001b[0m\u001b[0mcasted_key\u001b[0m\u001b[1;33m)\u001b[0m\u001b[1;33m\u001b[0m\u001b[1;33m\u001b[0m\u001b[0m\n\u001b[0;32m   3362\u001b[0m             \u001b[1;32mexcept\u001b[0m \u001b[0mKeyError\u001b[0m \u001b[1;32mas\u001b[0m \u001b[0merr\u001b[0m\u001b[1;33m:\u001b[0m\u001b[1;33m\u001b[0m\u001b[1;33m\u001b[0m\u001b[0m\n\u001b[1;32m-> 3363\u001b[1;33m                 \u001b[1;32mraise\u001b[0m \u001b[0mKeyError\u001b[0m\u001b[1;33m(\u001b[0m\u001b[0mkey\u001b[0m\u001b[1;33m)\u001b[0m \u001b[1;32mfrom\u001b[0m \u001b[0merr\u001b[0m\u001b[1;33m\u001b[0m\u001b[1;33m\u001b[0m\u001b[0m\n\u001b[0m\u001b[0;32m   3364\u001b[0m \u001b[1;33m\u001b[0m\u001b[0m\n\u001b[0;32m   3365\u001b[0m         \u001b[1;32mif\u001b[0m \u001b[0mis_scalar\u001b[0m\u001b[1;33m(\u001b[0m\u001b[0mkey\u001b[0m\u001b[1;33m)\u001b[0m \u001b[1;32mand\u001b[0m \u001b[0misna\u001b[0m\u001b[1;33m(\u001b[0m\u001b[0mkey\u001b[0m\u001b[1;33m)\u001b[0m \u001b[1;32mand\u001b[0m \u001b[1;32mnot\u001b[0m \u001b[0mself\u001b[0m\u001b[1;33m.\u001b[0m\u001b[0mhasnans\u001b[0m\u001b[1;33m:\u001b[0m\u001b[1;33m\u001b[0m\u001b[1;33m\u001b[0m\u001b[0m\n",
      "\u001b[1;31mKeyError\u001b[0m: 'note_freq'"
     ]
    },
    {
     "data": {
      "image/png": "[encoded data removed]",
      "text/plain": [
       "<Figure size 432x288 with 1 Axes>"
      ]
     },
     "metadata": {},
     "output_type": "display_data"
    },
    {
     "data": {
      "text/plain": [
       "<Figure size 432x288 with 0 Axes>"
      ]
     },
     "metadata": {},
     "output_type": "display_data"
    }
   ],
   "source": [
    "import os\n",
    "import autocorelatie\n",
    "import spectograma\n",
    "import cepstrum\n",
    "import knn\n",
    "import kmeans\n",
    "#from cauta_csv import cauta_csv\n",
    "\n",
    "def notes_translate():\n",
    "    ans_proc = int(input(\"Tip procesare dorit: autocorelatie(1), spectograma(2), cepstrum(3) sau skip procesare(0). \"))\n",
    "    if ans_proc == 1:\n",
    "        print(\"\\nPentru procesare, ati ales: autocorelatie.\\n\")\n",
    "\n",
    "        path_proiect = os.getcwd()                 #asa nu mai trb sa schimbi path-ul bogdan cu andreea\n",
    "\n",
    "        path_folder_note = r'{}'.format(os.path.join(path_proiect, 'note_train&test'))\n",
    "        path_csv = r'{}'.format(os.path.join(path_proiect, 'autocor_train&test.csv'))\n",
    "\n",
    "        # path_folder_note = r'{}'.format(os.path.join(path_proiect, 'note_train'))\n",
    "        # path_csv = r'{}'.format(os.path.join(path_proiect, 'autocor_train.csv'))\n",
    "\n",
    "        # path_folder_note = r'{}'.format(os.path.join(path_proiect, 'note_test'))\n",
    "        # path_csv = r'{}'.format(os.path.join(path_proiect, 'autocor_test.csv'))\n",
    "\n",
    "        print(\"\\nAti ales sa faceti procesarea pe *{}* \"\n",
    "              \"\\nsi sa returnati *{}*.\".format(path_folder_note, path_csv))\n",
    "\n",
    "        print(\"\\nSe proceseaza...\")\n",
    "\n",
    "        autocorelatie.returnare_csv(path_folder_note, path_csv)     # se returneaza CSV cu frecv si nota din *toate* fisiere.wav\n",
    "        print(\"\\nProcesare finalizata, CSV creat.\")\n",
    "\n",
    "    elif ans_proc == 2:\n",
    "        print(\"\\nPentru procesare, ati ales: spectograma.\\n\")\n",
    "        spectograma.procesare()\n",
    "        print(\"\\nProcesare finalizata.\")\n",
    "\n",
    "\n",
    "    ans_ml = int(input(\"\\nTip machine learning algorithm dorit: k-nn(1), k-means(2) sau skip ML(0). \"))\n",
    "    if ans_ml == 1:\n",
    "        print(\"\\nPentru clasificare, ati ales: k-nn.\\n\")\n",
    "        csv_ales = 'autocor_train&test.csv'\n",
    "        # csv_ales = 'autocor_train.csv'\n",
    "        # csv_ales = 'autocor_test.csv'\n",
    "\n",
    "        print(\"\\nAti ales sa faceti ML pe *{}*.\\n\".format(csv_ales))\n",
    "        print(\"\\nSe face ML...\")\n",
    "\n",
    "        knn.clasificare(csv_ales)\n",
    "\n",
    "    elif ans_ml == 2:\n",
    "        print(\"\\nPentru clasificare, ati ales: k-means.\\n\")\n",
    "        kmeans.clasificare()\n",
    "\n",
    "\n",
    "if __name__ == '__main__':\n",
    "    notes_translate()\n",
    "\n",
    "#bibliografie:\n",
    "#https://www.analyticsvidhya.com/blog/2021/01/a-quick-introduction-to-k-nearest-neighbor-knn-classification-using-python/\n"
   ]
  },
  {
   "cell_type": "code",
   "execution_count": null,
   "id": "9a816570",
   "metadata": {},
   "outputs": [],
   "source": []
  }
 ],
 "metadata": {
  "kernelspec": {
   "display_name": "Python 3 (ipykernel)",
   "language": "python",
   "name": "python3"
  },
  "language_info": {
   "codemirror_mode": {
    "name": "ipython",
    "version": 3
   },
   "file_extension": ".py",
   "mimetype": "text/x-python",
   "name": "python",
   "nbconvert_exporter": "python",
   "pygments_lexer": "ipython3",
   "version": "3.9.7"
  }
 },
 "nbformat": 4,
 "nbformat_minor": 5
}
