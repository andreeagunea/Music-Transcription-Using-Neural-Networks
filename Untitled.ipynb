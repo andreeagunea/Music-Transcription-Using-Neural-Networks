{
 "cells": [
  {
   "cell_type": "code",
   "execution_count": 7,
   "id": "3b2d3f19",
   "metadata": {},
   "outputs": [
    {
     "ename": "UserSettingsException",
     "evalue": "An environment configuration file already exists; simply set values to modify.",
     "output_type": "error",
     "traceback": [
      "\u001b[1;31m---------------------------------------------------------------------------\u001b[0m",
      "\u001b[1;31mUserSettingsException\u001b[0m                     Traceback (most recent call last)",
      "\u001b[1;32m~\\AppData\\Local\\Temp/ipykernel_10372/3834355070.py\u001b[0m in \u001b[0;36m<module>\u001b[1;34m\u001b[0m\n\u001b[0;32m      1\u001b[0m \u001b[1;32mfrom\u001b[0m \u001b[0mmusic21\u001b[0m \u001b[1;32mimport\u001b[0m \u001b[1;33m*\u001b[0m\u001b[1;33m\u001b[0m\u001b[1;33m\u001b[0m\u001b[0m\n\u001b[0;32m      2\u001b[0m \u001b[0mus\u001b[0m \u001b[1;33m=\u001b[0m \u001b[0menvironment\u001b[0m\u001b[1;33m.\u001b[0m\u001b[0mUserSettings\u001b[0m\u001b[1;33m(\u001b[0m\u001b[1;33m)\u001b[0m\u001b[1;33m\u001b[0m\u001b[1;33m\u001b[0m\u001b[0m\n\u001b[1;32m----> 3\u001b[1;33m \u001b[0mus\u001b[0m\u001b[1;33m.\u001b[0m\u001b[0mcreate\u001b[0m\u001b[1;33m(\u001b[0m\u001b[1;33m)\u001b[0m\u001b[1;33m\u001b[0m\u001b[1;33m\u001b[0m\u001b[0m\n\u001b[0m\u001b[0;32m      4\u001b[0m \u001b[0mus\u001b[0m\u001b[1;33m[\u001b[0m\u001b[1;34m'musicxmlPath'\u001b[0m\u001b[1;33m]\u001b[0m \u001b[1;33m=\u001b[0m \u001b[1;34mr'D:\\Installed\\Musescore\\bin\\MuseScore3.exe'\u001b[0m\u001b[1;33m\u001b[0m\u001b[1;33m\u001b[0m\u001b[0m\n\u001b[0;32m      5\u001b[0m \u001b[0mus\u001b[0m\u001b[1;33m[\u001b[0m\u001b[1;34m'musescoreDirectPNGPath'\u001b[0m\u001b[1;33m]\u001b[0m \u001b[1;33m=\u001b[0m \u001b[1;34mr'D:\\Installed\\Musescore\\bin\\MuseScore3.exe'\u001b[0m\u001b[1;33m\u001b[0m\u001b[1;33m\u001b[0m\u001b[0m\n",
      "\u001b[1;32mD:\\Installed\\Anaconda\\lib\\site-packages\\music21\\environment.py\u001b[0m in \u001b[0;36mcreate\u001b[1;34m(self)\u001b[0m\n\u001b[0;32m   1335\u001b[0m             \u001b[0mself\u001b[0m\u001b[1;33m.\u001b[0m\u001b[0m_environment\u001b[0m\u001b[1;33m.\u001b[0m\u001b[0mwrite\u001b[0m\u001b[1;33m(\u001b[0m\u001b[1;33m)\u001b[0m\u001b[1;33m\u001b[0m\u001b[1;33m\u001b[0m\u001b[0m\n\u001b[0;32m   1336\u001b[0m         \u001b[1;32melse\u001b[0m\u001b[1;33m:\u001b[0m\u001b[1;33m\u001b[0m\u001b[1;33m\u001b[0m\u001b[0m\n\u001b[1;32m-> 1337\u001b[1;33m             raise UserSettingsException(\n\u001b[0m\u001b[0;32m   1338\u001b[0m                 \u001b[1;34m'An environment configuration file already exists; '\u001b[0m\u001b[1;33m\u001b[0m\u001b[1;33m\u001b[0m\u001b[0m\n\u001b[0;32m   1339\u001b[0m                 'simply set values to modify.')\n",
      "\u001b[1;31mUserSettingsException\u001b[0m: An environment configuration file already exists; simply set values to modify."
     ]
    }
   ],
   "source": [
    "from music21 import *\n",
    "\n",
    "us = environment.UserSettings()\n",
    "us['musicxmlPath'] = r'D:\\Installed\\Musescore\\bin\\MuseScore3.exe'\n",
    "us['musescoreDirectPNGPath'] = r'D:\\Installed\\Musescore\\bin\\MuseScore3.exe'\n",
    "\n",
    "\n",
    "note_corecte = ['C3', 'D3', 'E3', 'F3', 'G3', 'F3', 'E3', 'D3', 'C3','C3', 'D3', 'E3', 'F3', 'G3', 'F3', 'E3', 'D3', 'C3',\n",
    "     'C3', 'D3', 'E3', 'F3', 'G3', 'F3', 'E3', 'D3', 'C3','C3', 'D3', 'E3', 'F3', 'G3', 'F3', 'E3', 'D3', 'C3',\n",
    "     'C3', 'D3', 'E3', 'F3', 'G3', 'F3', 'E3', 'D3', 'C3']\n",
    "\n",
    "note_prezise = ['D3', 'D3', 'E3', 'F3', 'G3', 'F3', 'E3', 'D3', 'C3','C3', 'D3', 'E3', 'F3', 'G3', 'F3', 'E3', 'D3', 'C3',\n",
    "     'C3', 'D3', 'E3', 'F3', 'G3', 'F3', 'E3', 'D3', 'C3','C3', 'D3', 'E3', 'F3', 'G3', 'F3', 'E3', 'D3', 'C3',\n",
    "     'C3', 'D3', 'E3', 'F3', 'A3', 'A3', 'E3', 'D3', 'D3']\n",
    "\n",
    "s = stream.Stream()\n",
    "for i, j in zip(note_prezise, note_corecte):\n",
    "        if i[0] != j[0]:\n",
    "            n = note.Note(i[0], quarterLength = 1)\n",
    "            n.style.color='red'\n",
    "            s.append([n])\n",
    "        else:\n",
    "            n = note.Note(i[0], quarterLength = 1)\n",
    "            s.append([n])\n",
    "    \n",
    "s.show()"
   ]
  },
  {
   "cell_type": "code",
   "execution_count": null,
   "id": "df4e09a2",
   "metadata": {},
   "outputs": [],
   "source": []
  }
 ],
 "metadata": {
  "kernelspec": {
   "display_name": "Python 3 (ipykernel)",
   "language": "python",
   "name": "python3"
  },
  "language_info": {
   "codemirror_mode": {
    "name": "ipython",
    "version": 3
   },
   "file_extension": ".py",
   "mimetype": "text/x-python",
   "name": "python",
   "nbconvert_exporter": "python",
   "pygments_lexer": "ipython3",
   "version": "3.9.7"
  }
 },
 "nbformat": 4,
 "nbformat_minor": 5
}
